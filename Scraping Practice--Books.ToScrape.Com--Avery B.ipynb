{
 "cells": [
  {
   "cell_type": "markdown",
   "id": "f26bfae6",
   "metadata": {},
   "source": [
    "# 1. Import Your Libraries"
   ]
  },
  {
   "cell_type": "code",
   "execution_count": null,
   "id": "405a8c5d",
   "metadata": {},
   "outputs": [],
   "source": [
    "from bs4 import BeautifulSoup\n",
    "import requests\n",
    "import csv\n",
    "import pandas as pd"
   ]
  },
  {
   "cell_type": "markdown",
   "id": "3c47a1b3",
   "metadata": {},
   "source": [
    "# 2. Get URL and Send GET Request"
   ]
  },
  {
   "cell_type": "code",
   "execution_count": null,
   "id": "fef88557",
   "metadata": {},
   "outputs": [],
   "source": [
    "url = \"http://books.toscrape.com/\"\n",
    "response = requests.get(url)\n",
    "if response.status_code == 200:\n",
    "    print(\"request successful\")\n",
    "else:\n",
    "    print(\"request failed\")"
   ]
  },
  {
   "cell_type": "markdown",
   "id": "5c438d36",
   "metadata": {},
   "source": [
    "# 3. Parse the HTML Content"
   ]
  },
  {
   "cell_type": "code",
   "execution_count": null,
   "id": "4704dbd0",
   "metadata": {
    "scrolled": false
   },
   "outputs": [],
   "source": [
    "# The following is a soup object to parse the html content of the website\n",
    "soup = BeautifulSoup(response.text, \"html.parser\")"
   ]
  },
  {
   "cell_type": "markdown",
   "id": "edbebea0",
   "metadata": {},
   "source": [
    "# 4. Extract Book Details for Page 1"
   ]
  },
  {
   "cell_type": "code",
   "execution_count": null,
   "id": "8b8091d9",
   "metadata": {},
   "outputs": [],
   "source": [
    "# find all 20 books on page 1\n",
    "books = soup.find_all(\"h3\")\n",
    "\n",
    "# iterate through the books and extract the information for each book\n",
    "\n",
    "for book in books:\n",
    "    book_url = book.find('a')['href']\n",
    "    book_response = requests.get(url + book_url)\n",
    "    book_soup = BeautifulSoup(book_response.content, 'html.parser')\n",
    "    \n",
    "    title = book_soup.find('h1').text\n",
    "    category = book_soup.find('ul', class_='breadcrumb').find_all('a')[2].text.strip()\n",
    "    rating = book_soup.find('p', class_='star-rating')['class'][1]\n",
    "    price = book_soup.find('p', class_='price_color').text.strip()\n",
    "    availability = book_soup.find('p', class_='instock availability').text.strip()\n",
    "    \n",
    "    print(f'Title: {title}')\n",
    "    print(f'Category: {category}')\n",
    "    print(f'Rating: {rating}')\n",
    "    print(f'Price: {price}')\n",
    "    print(f'Availability: {availability}')\n",
    "    print('******')"
   ]
  },
  {
   "cell_type": "markdown",
   "id": "7858cf97",
   "metadata": {},
   "source": [
    "# 5. Extract Details for All 50 Pages"
   ]
  },
  {
   "cell_type": "code",
   "execution_count": null,
   "id": "ba708440",
   "metadata": {},
   "outputs": [],
   "source": [
    "# create a list to hold all the book information\n",
    "book_data = []\n",
    "\n",
    "# loop through all 50 pages\n",
    "for page_num in range(1, 51):\n",
    "    url = f'http://books.toscrape.com/catalogue/page-{page_num}.html'\n",
    "    response = requests.get(url)\n",
    "    soup = BeautifulSoup(response.content, 'html.parser')\n",
    "    \n",
    "    books = soup.find_all(\"h3\")\n",
    "\n",
    "    for book in books:\n",
    "        book_url = book.find('a')['href']\n",
    "        book_response = requests.get('http://books.toscrape.com/catalogue/' + book_url)\n",
    "        book_soup = BeautifulSoup(book_response.content, 'html.parser')\n",
    "    \n",
    "        title = book_soup.find('h1').text\n",
    "        category = book_soup.find('ul', class_='breadcrumb').find_all('a')[2].text.strip()\n",
    "        rating = book_soup.find('p', class_='star-rating')['class'][1]\n",
    "        price = book_soup.find('p', class_='price_color').text.strip()\n",
    "        availability = book_soup.find('p', class_='instock availability').text.strip()\n",
    "    \n",
    "# add extracted info to the list\n",
    "        book_data.append([title, category, rating, price, availability])\n",
    "        print(book_data)\n",
    "        print('******')"
   ]
  },
  {
   "cell_type": "markdown",
   "id": "9ae1cb81",
   "metadata": {},
   "source": [
    "# 6. Export the Data"
   ]
  },
  {
   "cell_type": "code",
   "execution_count": null,
   "id": "95e87785",
   "metadata": {
    "scrolled": true
   },
   "outputs": [],
   "source": [
    "# convert list to pandas dataframe\n",
    "df = pd.DataFrame(book_data, columns=[\"Title\", \"Category\", \"Rating\", \"Price\", \"Availability\"])\n",
    "\n",
    "# display first 10 rows\n",
    "print(df.head(10))\n"
   ]
  },
  {
   "cell_type": "code",
   "execution_count": null,
   "id": "6db5d51b",
   "metadata": {},
   "outputs": [],
   "source": [
    "# save data to csv\n",
    "df.to_csv(\"books_scraped.csv\", index=False)"
   ]
  },
  {
   "cell_type": "code",
   "execution_count": null,
   "id": "7fce8ad1",
   "metadata": {},
   "outputs": [],
   "source": []
  }
 ],
 "metadata": {
  "kernelspec": {
   "display_name": "Python 3 (ipykernel)",
   "language": "python",
   "name": "python3"
  },
  "language_info": {
   "codemirror_mode": {
    "name": "ipython",
    "version": 3
   },
   "file_extension": ".py",
   "mimetype": "text/x-python",
   "name": "python",
   "nbconvert_exporter": "python",
   "pygments_lexer": "ipython3",
   "version": "3.9.12"
  }
 },
 "nbformat": 4,
 "nbformat_minor": 5
}
