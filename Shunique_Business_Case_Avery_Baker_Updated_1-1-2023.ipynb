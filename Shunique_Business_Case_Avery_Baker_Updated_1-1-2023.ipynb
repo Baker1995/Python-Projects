{
 "cells": [
  {
   "cell_type": "markdown",
   "metadata": {},
   "source": [
    "# Shunique - Company Background\n",
    "Shunique is a hot new online women's shoe company that is known for their unique shoe combinations.  Founded by auto tire amgnate Joseph Flatbush and his daugthers Jenna and Jamaica.  He believed that just like car tires, women's shoes should be unique and stylish. However, a bold choice to release a \"silver vegan leather sandal\" that had very few sales has left the company to turn towards their data in search of the next big shoe hit.  The company doesn't know much about their data and have not been keeping up with their monthly, quarterly, and yearly performance.    You were hired as a data analyst to help them answer key questions.  You were given all the shoe sales transactions from Aug 2018 to Aug 2020.  They do know a few statistics:  (1) They have generated \\$166,936,995 in total sales since opening (2) The top 3 cities for number of shoes sold are Washington, DC, Houston, Tx, and El Paso, Tx (See Figure below).  They have also provided you with a codebook describing all the columns and their potential values.\n",
    "<img src=\"num_shoes_sold_per_city.png\">"
   ]
  },
  {
   "cell_type": "markdown",
   "metadata": {},
   "source": [
    "## Question 1\n",
    "\n",
    "**(1a.)** what was the name of the Best selling shoe and total sales for the Second Fiscal Quarter(Q2) of 2020?\n",
    "\n",
    "**(1b)**. How did it compare to that shoe's sales in 2019 Q2?  Is it the hottest selling shoe in Q2 2019?  What else can you say about the Q2 2019 versus Q2 2020 performance of this shoe relative to other top sellers during these quarters?  \n",
    "\n",
    "**Definition of Quarters:**\n",
    "January, February, and March (Q1)\n",
    "April, May, and June (Q2)\n",
    "July, August, and September (Q3)\n",
    "October, November, and December (Q4) "
   ]
  },
  {
   "cell_type": "code",
   "execution_count": 1,
   "metadata": {},
   "outputs": [
    {
     "name": "stdout",
     "output_type": "stream",
     "text": [
      "<class 'pandas.core.frame.DataFrame'>\n",
      "RangeIndex: 1105257 entries, 0 to 1105256\n",
      "Data columns (total 18 columns):\n",
      " #   Column           Non-Null Count    Dtype  \n",
      "---  ------           --------------    -----  \n",
      " 0   first_name       1105257 non-null  object \n",
      " 1   last_name        1105257 non-null  object \n",
      " 2   email            1105257 non-null  object \n",
      " 3   city             1105257 non-null  object \n",
      " 4   address          1105257 non-null  object \n",
      " 5   state            1105257 non-null  object \n",
      " 6   transactionDate  1105257 non-null  object \n",
      " 7   transactionID    1105257 non-null  object \n",
      " 8   time             1105257 non-null  object \n",
      " 9   quantity         1105257 non-null  int64  \n",
      " 10  name             1105257 non-null  object \n",
      " 11  color            1105257 non-null  object \n",
      " 12  materials        1105257 non-null  object \n",
      " 13  prices           1105257 non-null  float64\n",
      " 14  feature          1071074 non-null  object \n",
      " 15  category         1105257 non-null  object \n",
      " 16  cost             1105257 non-null  float64\n",
      " 17  Date             1105257 non-null  object \n",
      "dtypes: float64(2), int64(1), object(15)\n",
      "memory usage: 151.8+ MB\n"
     ]
    }
   ],
   "source": [
    "import matplotlib.pyplot as plt\n",
    "from matplotlib.ticker import FixedFormatter, FuncFormatter\n",
    "import pandas as pd\n",
    "import seaborn as sns\n",
    "from scipy import stats\n",
    "store = pd.read_csv(\"transactions.csv\")\n",
    "store.info()"
   ]
  },
  {
   "cell_type": "code",
   "execution_count": 2,
   "metadata": {},
   "outputs": [
    {
     "data": {
      "text/html": [
       "<div>\n",
       "<style scoped>\n",
       "    .dataframe tbody tr th:only-of-type {\n",
       "        vertical-align: middle;\n",
       "    }\n",
       "\n",
       "    .dataframe tbody tr th {\n",
       "        vertical-align: top;\n",
       "    }\n",
       "\n",
       "    .dataframe thead th {\n",
       "        text-align: right;\n",
       "    }\n",
       "</style>\n",
       "<table border=\"1\" class=\"dataframe\">\n",
       "  <thead>\n",
       "    <tr style=\"text-align: right;\">\n",
       "      <th></th>\n",
       "      <th>first_name</th>\n",
       "      <th>last_name</th>\n",
       "      <th>email</th>\n",
       "      <th>city</th>\n",
       "      <th>address</th>\n",
       "      <th>state</th>\n",
       "      <th>transactionDate</th>\n",
       "      <th>transactionID</th>\n",
       "      <th>time</th>\n",
       "      <th>quantity</th>\n",
       "      <th>name</th>\n",
       "      <th>color</th>\n",
       "      <th>materials</th>\n",
       "      <th>prices</th>\n",
       "      <th>feature</th>\n",
       "      <th>category</th>\n",
       "      <th>cost</th>\n",
       "      <th>Date</th>\n",
       "    </tr>\n",
       "  </thead>\n",
       "  <tbody>\n",
       "    <tr>\n",
       "      <th>0</th>\n",
       "      <td>Ximenes</td>\n",
       "      <td>Oxshott</td>\n",
       "      <td>xoxshott0@biglobe.ne.jp</td>\n",
       "      <td>Idaho Falls</td>\n",
       "      <td>5 Pearson Plaza</td>\n",
       "      <td>Idaho</td>\n",
       "      <td>04/04/2019</td>\n",
       "      <td>6e3e9c86-2251-44bc-8249-8045e5406cca</td>\n",
       "      <td>7:07 PM</td>\n",
       "      <td>2</td>\n",
       "      <td>'waffle Spa Slide' Slipper (women)</td>\n",
       "      <td>green</td>\n",
       "      <td>leather</td>\n",
       "      <td>59.95</td>\n",
       "      <td>recycled material</td>\n",
       "      <td>wedges</td>\n",
       "      <td>119.90</td>\n",
       "      <td>2019-04-04</td>\n",
       "    </tr>\n",
       "    <tr>\n",
       "      <th>1</th>\n",
       "      <td>Urson</td>\n",
       "      <td>Wilcox</td>\n",
       "      <td>uwilcox2w@weather.com</td>\n",
       "      <td>Lima</td>\n",
       "      <td>8 Muir Road</td>\n",
       "      <td>Ohio</td>\n",
       "      <td>02/03/2019</td>\n",
       "      <td>aaacafb6-112c-41ad-baf1-44b54b17170b</td>\n",
       "      <td>3:21 AM</td>\n",
       "      <td>1</td>\n",
       "      <td>'waffle Spa Slide' Slipper (women)</td>\n",
       "      <td>green</td>\n",
       "      <td>leather</td>\n",
       "      <td>59.95</td>\n",
       "      <td>recycled material</td>\n",
       "      <td>wedges</td>\n",
       "      <td>59.95</td>\n",
       "      <td>2019-02-03</td>\n",
       "    </tr>\n",
       "    <tr>\n",
       "      <th>2</th>\n",
       "      <td>Svend</td>\n",
       "      <td>De la Feld</td>\n",
       "      <td>sdelafeld58@last.fm</td>\n",
       "      <td>Wilmington</td>\n",
       "      <td>0 5th Pass</td>\n",
       "      <td>Delaware</td>\n",
       "      <td>07/21/2019</td>\n",
       "      <td>3727a9ae-9914-421c-9adc-eb4f1dd010f4</td>\n",
       "      <td>5:04 AM</td>\n",
       "      <td>2</td>\n",
       "      <td>'waffle Spa Slide' Slipper (women)</td>\n",
       "      <td>green</td>\n",
       "      <td>leather</td>\n",
       "      <td>59.95</td>\n",
       "      <td>recycled material</td>\n",
       "      <td>wedges</td>\n",
       "      <td>119.90</td>\n",
       "      <td>2019-07-21</td>\n",
       "    </tr>\n",
       "    <tr>\n",
       "      <th>3</th>\n",
       "      <td>Laura</td>\n",
       "      <td>Potts</td>\n",
       "      <td>bmartin@scott-carr.info</td>\n",
       "      <td>Rodriguezmouth</td>\n",
       "      <td>03918 Rachel Meadows Apt. 214</td>\n",
       "      <td>Wisconsin</td>\n",
       "      <td>01/26/2019</td>\n",
       "      <td>649691c5-a77f-4ae2-bee1-4894a03b2dd3</td>\n",
       "      <td>06:26 PM</td>\n",
       "      <td>1</td>\n",
       "      <td>'waffle Spa Slide' Slipper (women)</td>\n",
       "      <td>green</td>\n",
       "      <td>leather</td>\n",
       "      <td>59.95</td>\n",
       "      <td>recycled material</td>\n",
       "      <td>wedges</td>\n",
       "      <td>59.95</td>\n",
       "      <td>2019-01-26</td>\n",
       "    </tr>\n",
       "    <tr>\n",
       "      <th>4</th>\n",
       "      <td>Alicia</td>\n",
       "      <td>Barker</td>\n",
       "      <td>wduarte@yahoo.com</td>\n",
       "      <td>Port Elijah</td>\n",
       "      <td>5407 Conrad Divide</td>\n",
       "      <td>Arizona</td>\n",
       "      <td>12/13/2019</td>\n",
       "      <td>140995b6-91f1-465f-9491-c7413112a9ee</td>\n",
       "      <td>03:07 AM</td>\n",
       "      <td>5</td>\n",
       "      <td>'waffle Spa Slide' Slipper (women)</td>\n",
       "      <td>green</td>\n",
       "      <td>leather</td>\n",
       "      <td>59.95</td>\n",
       "      <td>recycled material</td>\n",
       "      <td>wedges</td>\n",
       "      <td>299.75</td>\n",
       "      <td>2019-12-13</td>\n",
       "    </tr>\n",
       "  </tbody>\n",
       "</table>\n",
       "</div>"
      ],
      "text/plain": [
       "  first_name   last_name                    email            city  \\\n",
       "0    Ximenes     Oxshott  xoxshott0@biglobe.ne.jp     Idaho Falls   \n",
       "1      Urson      Wilcox    uwilcox2w@weather.com            Lima   \n",
       "2      Svend  De la Feld      sdelafeld58@last.fm      Wilmington   \n",
       "3      Laura       Potts  bmartin@scott-carr.info  Rodriguezmouth   \n",
       "4     Alicia      Barker        wduarte@yahoo.com     Port Elijah   \n",
       "\n",
       "                         address      state transactionDate  \\\n",
       "0                5 Pearson Plaza      Idaho      04/04/2019   \n",
       "1                    8 Muir Road       Ohio      02/03/2019   \n",
       "2                     0 5th Pass   Delaware      07/21/2019   \n",
       "3  03918 Rachel Meadows Apt. 214  Wisconsin      01/26/2019   \n",
       "4             5407 Conrad Divide    Arizona      12/13/2019   \n",
       "\n",
       "                          transactionID      time  quantity  \\\n",
       "0  6e3e9c86-2251-44bc-8249-8045e5406cca   7:07 PM         2   \n",
       "1  aaacafb6-112c-41ad-baf1-44b54b17170b   3:21 AM         1   \n",
       "2  3727a9ae-9914-421c-9adc-eb4f1dd010f4   5:04 AM         2   \n",
       "3  649691c5-a77f-4ae2-bee1-4894a03b2dd3  06:26 PM         1   \n",
       "4  140995b6-91f1-465f-9491-c7413112a9ee  03:07 AM         5   \n",
       "\n",
       "                                 name  color materials  prices  \\\n",
       "0  'waffle Spa Slide' Slipper (women)  green   leather   59.95   \n",
       "1  'waffle Spa Slide' Slipper (women)  green   leather   59.95   \n",
       "2  'waffle Spa Slide' Slipper (women)  green   leather   59.95   \n",
       "3  'waffle Spa Slide' Slipper (women)  green   leather   59.95   \n",
       "4  'waffle Spa Slide' Slipper (women)  green   leather   59.95   \n",
       "\n",
       "             feature category    cost        Date  \n",
       "0  recycled material   wedges  119.90  2019-04-04  \n",
       "1  recycled material   wedges   59.95  2019-02-03  \n",
       "2  recycled material   wedges  119.90  2019-07-21  \n",
       "3  recycled material   wedges   59.95  2019-01-26  \n",
       "4  recycled material   wedges  299.75  2019-12-13  "
      ]
     },
     "execution_count": 2,
     "metadata": {},
     "output_type": "execute_result"
    }
   ],
   "source": [
    "store.head()"
   ]
  },
  {
   "cell_type": "code",
   "execution_count": 3,
   "metadata": {},
   "outputs": [
    {
     "name": "stdout",
     "output_type": "stream",
     "text": [
      "<class 'pandas.core.frame.DataFrame'>\n",
      "RangeIndex: 1105257 entries, 0 to 1105256\n",
      "Data columns (total 18 columns):\n",
      " #   Column           Non-Null Count    Dtype         \n",
      "---  ------           --------------    -----         \n",
      " 0   first_name       1105257 non-null  object        \n",
      " 1   last_name        1105257 non-null  object        \n",
      " 2   email            1105257 non-null  object        \n",
      " 3   city             1105257 non-null  object        \n",
      " 4   address          1105257 non-null  object        \n",
      " 5   state            1105257 non-null  object        \n",
      " 6   transactionDate  1105257 non-null  datetime64[ns]\n",
      " 7   transactionID    1105257 non-null  object        \n",
      " 8   time             1105257 non-null  object        \n",
      " 9   quantity         1105257 non-null  int64         \n",
      " 10  name             1105257 non-null  object        \n",
      " 11  color            1105257 non-null  object        \n",
      " 12  materials        1105257 non-null  object        \n",
      " 13  prices           1105257 non-null  float64       \n",
      " 14  feature          1071074 non-null  object        \n",
      " 15  category         1105257 non-null  object        \n",
      " 16  cost             1105257 non-null  float64       \n",
      " 17  Date             1105257 non-null  object        \n",
      "dtypes: datetime64[ns](1), float64(2), int64(1), object(14)\n",
      "memory usage: 151.8+ MB\n"
     ]
    }
   ],
   "source": [
    "store['transactionDate'] = pd.to_datetime(store['transactionDate'])\n",
    "store.info()"
   ]
  },
  {
   "cell_type": "code",
   "execution_count": 4,
   "metadata": {},
   "outputs": [
    {
     "data": {
      "text/html": [
       "<div>\n",
       "<style scoped>\n",
       "    .dataframe tbody tr th:only-of-type {\n",
       "        vertical-align: middle;\n",
       "    }\n",
       "\n",
       "    .dataframe tbody tr th {\n",
       "        vertical-align: top;\n",
       "    }\n",
       "\n",
       "    .dataframe thead th {\n",
       "        text-align: right;\n",
       "    }\n",
       "</style>\n",
       "<table border=\"1\" class=\"dataframe\">\n",
       "  <thead>\n",
       "    <tr style=\"text-align: right;\">\n",
       "      <th></th>\n",
       "      <th>first_name</th>\n",
       "      <th>last_name</th>\n",
       "      <th>email</th>\n",
       "      <th>city</th>\n",
       "      <th>address</th>\n",
       "      <th>state</th>\n",
       "      <th>transactionDate</th>\n",
       "      <th>transactionID</th>\n",
       "      <th>time</th>\n",
       "      <th>quantity</th>\n",
       "      <th>name</th>\n",
       "      <th>color</th>\n",
       "      <th>materials</th>\n",
       "      <th>prices</th>\n",
       "      <th>feature</th>\n",
       "      <th>category</th>\n",
       "      <th>cost</th>\n",
       "      <th>Date</th>\n",
       "    </tr>\n",
       "  </thead>\n",
       "  <tbody>\n",
       "    <tr>\n",
       "      <th>0</th>\n",
       "      <td>Ximenes</td>\n",
       "      <td>Oxshott</td>\n",
       "      <td>xoxshott0@biglobe.ne.jp</td>\n",
       "      <td>Idaho Falls</td>\n",
       "      <td>5 Pearson Plaza</td>\n",
       "      <td>Idaho</td>\n",
       "      <td>2019-04-04</td>\n",
       "      <td>6e3e9c86-2251-44bc-8249-8045e5406cca</td>\n",
       "      <td>7:07 PM</td>\n",
       "      <td>2</td>\n",
       "      <td>'waffle Spa Slide' Slipper (women)</td>\n",
       "      <td>green</td>\n",
       "      <td>leather</td>\n",
       "      <td>59.95</td>\n",
       "      <td>recycled material</td>\n",
       "      <td>wedges</td>\n",
       "      <td>119.90</td>\n",
       "      <td>2019-04-04</td>\n",
       "    </tr>\n",
       "    <tr>\n",
       "      <th>1</th>\n",
       "      <td>Urson</td>\n",
       "      <td>Wilcox</td>\n",
       "      <td>uwilcox2w@weather.com</td>\n",
       "      <td>Lima</td>\n",
       "      <td>8 Muir Road</td>\n",
       "      <td>Ohio</td>\n",
       "      <td>2019-02-03</td>\n",
       "      <td>aaacafb6-112c-41ad-baf1-44b54b17170b</td>\n",
       "      <td>3:21 AM</td>\n",
       "      <td>1</td>\n",
       "      <td>'waffle Spa Slide' Slipper (women)</td>\n",
       "      <td>green</td>\n",
       "      <td>leather</td>\n",
       "      <td>59.95</td>\n",
       "      <td>recycled material</td>\n",
       "      <td>wedges</td>\n",
       "      <td>59.95</td>\n",
       "      <td>2019-02-03</td>\n",
       "    </tr>\n",
       "    <tr>\n",
       "      <th>2</th>\n",
       "      <td>Svend</td>\n",
       "      <td>De la Feld</td>\n",
       "      <td>sdelafeld58@last.fm</td>\n",
       "      <td>Wilmington</td>\n",
       "      <td>0 5th Pass</td>\n",
       "      <td>Delaware</td>\n",
       "      <td>2019-07-21</td>\n",
       "      <td>3727a9ae-9914-421c-9adc-eb4f1dd010f4</td>\n",
       "      <td>5:04 AM</td>\n",
       "      <td>2</td>\n",
       "      <td>'waffle Spa Slide' Slipper (women)</td>\n",
       "      <td>green</td>\n",
       "      <td>leather</td>\n",
       "      <td>59.95</td>\n",
       "      <td>recycled material</td>\n",
       "      <td>wedges</td>\n",
       "      <td>119.90</td>\n",
       "      <td>2019-07-21</td>\n",
       "    </tr>\n",
       "    <tr>\n",
       "      <th>3</th>\n",
       "      <td>Laura</td>\n",
       "      <td>Potts</td>\n",
       "      <td>bmartin@scott-carr.info</td>\n",
       "      <td>Rodriguezmouth</td>\n",
       "      <td>03918 Rachel Meadows Apt. 214</td>\n",
       "      <td>Wisconsin</td>\n",
       "      <td>2019-01-26</td>\n",
       "      <td>649691c5-a77f-4ae2-bee1-4894a03b2dd3</td>\n",
       "      <td>06:26 PM</td>\n",
       "      <td>1</td>\n",
       "      <td>'waffle Spa Slide' Slipper (women)</td>\n",
       "      <td>green</td>\n",
       "      <td>leather</td>\n",
       "      <td>59.95</td>\n",
       "      <td>recycled material</td>\n",
       "      <td>wedges</td>\n",
       "      <td>59.95</td>\n",
       "      <td>2019-01-26</td>\n",
       "    </tr>\n",
       "    <tr>\n",
       "      <th>4</th>\n",
       "      <td>Alicia</td>\n",
       "      <td>Barker</td>\n",
       "      <td>wduarte@yahoo.com</td>\n",
       "      <td>Port Elijah</td>\n",
       "      <td>5407 Conrad Divide</td>\n",
       "      <td>Arizona</td>\n",
       "      <td>2019-12-13</td>\n",
       "      <td>140995b6-91f1-465f-9491-c7413112a9ee</td>\n",
       "      <td>03:07 AM</td>\n",
       "      <td>5</td>\n",
       "      <td>'waffle Spa Slide' Slipper (women)</td>\n",
       "      <td>green</td>\n",
       "      <td>leather</td>\n",
       "      <td>59.95</td>\n",
       "      <td>recycled material</td>\n",
       "      <td>wedges</td>\n",
       "      <td>299.75</td>\n",
       "      <td>2019-12-13</td>\n",
       "    </tr>\n",
       "  </tbody>\n",
       "</table>\n",
       "</div>"
      ],
      "text/plain": [
       "  first_name   last_name                    email            city  \\\n",
       "0    Ximenes     Oxshott  xoxshott0@biglobe.ne.jp     Idaho Falls   \n",
       "1      Urson      Wilcox    uwilcox2w@weather.com            Lima   \n",
       "2      Svend  De la Feld      sdelafeld58@last.fm      Wilmington   \n",
       "3      Laura       Potts  bmartin@scott-carr.info  Rodriguezmouth   \n",
       "4     Alicia      Barker        wduarte@yahoo.com     Port Elijah   \n",
       "\n",
       "                         address      state transactionDate  \\\n",
       "0                5 Pearson Plaza      Idaho      2019-04-04   \n",
       "1                    8 Muir Road       Ohio      2019-02-03   \n",
       "2                     0 5th Pass   Delaware      2019-07-21   \n",
       "3  03918 Rachel Meadows Apt. 214  Wisconsin      2019-01-26   \n",
       "4             5407 Conrad Divide    Arizona      2019-12-13   \n",
       "\n",
       "                          transactionID      time  quantity  \\\n",
       "0  6e3e9c86-2251-44bc-8249-8045e5406cca   7:07 PM         2   \n",
       "1  aaacafb6-112c-41ad-baf1-44b54b17170b   3:21 AM         1   \n",
       "2  3727a9ae-9914-421c-9adc-eb4f1dd010f4   5:04 AM         2   \n",
       "3  649691c5-a77f-4ae2-bee1-4894a03b2dd3  06:26 PM         1   \n",
       "4  140995b6-91f1-465f-9491-c7413112a9ee  03:07 AM         5   \n",
       "\n",
       "                                 name  color materials  prices  \\\n",
       "0  'waffle Spa Slide' Slipper (women)  green   leather   59.95   \n",
       "1  'waffle Spa Slide' Slipper (women)  green   leather   59.95   \n",
       "2  'waffle Spa Slide' Slipper (women)  green   leather   59.95   \n",
       "3  'waffle Spa Slide' Slipper (women)  green   leather   59.95   \n",
       "4  'waffle Spa Slide' Slipper (women)  green   leather   59.95   \n",
       "\n",
       "             feature category    cost        Date  \n",
       "0  recycled material   wedges  119.90  2019-04-04  \n",
       "1  recycled material   wedges   59.95  2019-02-03  \n",
       "2  recycled material   wedges  119.90  2019-07-21  \n",
       "3  recycled material   wedges   59.95  2019-01-26  \n",
       "4  recycled material   wedges  299.75  2019-12-13  "
      ]
     },
     "execution_count": 4,
     "metadata": {},
     "output_type": "execute_result"
    }
   ],
   "source": [
    "store.head()"
   ]
  },
  {
   "cell_type": "markdown",
   "metadata": {},
   "source": [
    "Question 1A: what was the name of the Best selling shoe and total sales for the Second Fiscal Quarter(Q2) of 2020?"
   ]
  },
  {
   "cell_type": "code",
   "execution_count": 5,
   "metadata": {
    "scrolled": true
   },
   "outputs": [
    {
     "data": {
      "text/html": [
       "<div>\n",
       "<style scoped>\n",
       "    .dataframe tbody tr th:only-of-type {\n",
       "        vertical-align: middle;\n",
       "    }\n",
       "\n",
       "    .dataframe tbody tr th {\n",
       "        vertical-align: top;\n",
       "    }\n",
       "\n",
       "    .dataframe thead th {\n",
       "        text-align: right;\n",
       "    }\n",
       "</style>\n",
       "<table border=\"1\" class=\"dataframe\">\n",
       "  <thead>\n",
       "    <tr style=\"text-align: right;\">\n",
       "      <th></th>\n",
       "      <th>first_name</th>\n",
       "      <th>last_name</th>\n",
       "      <th>email</th>\n",
       "      <th>city</th>\n",
       "      <th>address</th>\n",
       "      <th>state</th>\n",
       "      <th>transactionDate</th>\n",
       "      <th>transactionID</th>\n",
       "      <th>time</th>\n",
       "      <th>quantity</th>\n",
       "      <th>name</th>\n",
       "      <th>color</th>\n",
       "      <th>materials</th>\n",
       "      <th>prices</th>\n",
       "      <th>feature</th>\n",
       "      <th>category</th>\n",
       "      <th>cost</th>\n",
       "      <th>Date</th>\n",
       "    </tr>\n",
       "  </thead>\n",
       "  <tbody>\n",
       "    <tr>\n",
       "      <th>16</th>\n",
       "      <td>Kelly</td>\n",
       "      <td>Cooper</td>\n",
       "      <td>john15@ford-robbins.net</td>\n",
       "      <td>South Shaunburgh</td>\n",
       "      <td>30291 Ward Estates Apt. 026</td>\n",
       "      <td>Montana</td>\n",
       "      <td>2020-04-05</td>\n",
       "      <td>b65e96c1-2338-46a2-9623-ba9da6c8d81a</td>\n",
       "      <td>03:04 PM</td>\n",
       "      <td>1</td>\n",
       "      <td>'waffle Spa Slide' Slipper (women)</td>\n",
       "      <td>green</td>\n",
       "      <td>leather</td>\n",
       "      <td>59.95</td>\n",
       "      <td>recycled material</td>\n",
       "      <td>wedges</td>\n",
       "      <td>59.95</td>\n",
       "      <td>2020-04-05</td>\n",
       "    </tr>\n",
       "    <tr>\n",
       "      <th>28</th>\n",
       "      <td>Courtney</td>\n",
       "      <td>White</td>\n",
       "      <td>andrewdalton@lynch.com</td>\n",
       "      <td>West Laura</td>\n",
       "      <td>0735 Rivas Haven Suite 222</td>\n",
       "      <td>Connecticut</td>\n",
       "      <td>2020-05-02</td>\n",
       "      <td>a5c6be32-69a4-44c2-bbf5-376de942c7a9</td>\n",
       "      <td>09:01 PM</td>\n",
       "      <td>1</td>\n",
       "      <td>'waffle Spa Slide' Slipper (women)</td>\n",
       "      <td>green</td>\n",
       "      <td>leather</td>\n",
       "      <td>59.95</td>\n",
       "      <td>recycled material</td>\n",
       "      <td>wedges</td>\n",
       "      <td>59.95</td>\n",
       "      <td>2020-05-02</td>\n",
       "    </tr>\n",
       "    <tr>\n",
       "      <th>29</th>\n",
       "      <td>Harold</td>\n",
       "      <td>Floyd</td>\n",
       "      <td>urogers@yahoo.com</td>\n",
       "      <td>South Melanieburgh</td>\n",
       "      <td>584 Jonathan Heights</td>\n",
       "      <td>Georgia</td>\n",
       "      <td>2020-04-23</td>\n",
       "      <td>ffecd576-7f09-4c33-8ada-a42098e21b9e</td>\n",
       "      <td>12:07 PM</td>\n",
       "      <td>3</td>\n",
       "      <td>'waffle Spa Slide' Slipper (women)</td>\n",
       "      <td>green</td>\n",
       "      <td>leather</td>\n",
       "      <td>59.95</td>\n",
       "      <td>recycled material</td>\n",
       "      <td>wedges</td>\n",
       "      <td>179.85</td>\n",
       "      <td>2020-04-23</td>\n",
       "    </tr>\n",
       "    <tr>\n",
       "      <th>39</th>\n",
       "      <td>Jared</td>\n",
       "      <td>Jones</td>\n",
       "      <td>fjohnson@hotmail.com</td>\n",
       "      <td>South Megan</td>\n",
       "      <td>0850 Kaiser Row Apt. 873</td>\n",
       "      <td>Pennsylvania</td>\n",
       "      <td>2020-04-06</td>\n",
       "      <td>0ca69e3c-4e32-4805-a4ca-a990aa6d7a76</td>\n",
       "      <td>12:34 AM</td>\n",
       "      <td>1</td>\n",
       "      <td>'waffle Spa Slide' Slipper (women)</td>\n",
       "      <td>green</td>\n",
       "      <td>leather</td>\n",
       "      <td>59.95</td>\n",
       "      <td>recycled material</td>\n",
       "      <td>wedges</td>\n",
       "      <td>59.95</td>\n",
       "      <td>2020-04-06</td>\n",
       "    </tr>\n",
       "    <tr>\n",
       "      <th>45</th>\n",
       "      <td>Thomas</td>\n",
       "      <td>Wilson</td>\n",
       "      <td>antonio54@bennett-richards.biz</td>\n",
       "      <td>Sparksfurt</td>\n",
       "      <td>07199 Santiago Ports</td>\n",
       "      <td>Kansas</td>\n",
       "      <td>2020-04-30</td>\n",
       "      <td>5ee3c482-1f91-4be7-b3bd-b7bdc48d3330</td>\n",
       "      <td>12:28 PM</td>\n",
       "      <td>3</td>\n",
       "      <td>'waffle Spa Slide' Slipper (women)</td>\n",
       "      <td>green</td>\n",
       "      <td>leather</td>\n",
       "      <td>59.95</td>\n",
       "      <td>recycled material</td>\n",
       "      <td>wedges</td>\n",
       "      <td>179.85</td>\n",
       "      <td>2020-04-30</td>\n",
       "    </tr>\n",
       "    <tr>\n",
       "      <th>...</th>\n",
       "      <td>...</td>\n",
       "      <td>...</td>\n",
       "      <td>...</td>\n",
       "      <td>...</td>\n",
       "      <td>...</td>\n",
       "      <td>...</td>\n",
       "      <td>...</td>\n",
       "      <td>...</td>\n",
       "      <td>...</td>\n",
       "      <td>...</td>\n",
       "      <td>...</td>\n",
       "      <td>...</td>\n",
       "      <td>...</td>\n",
       "      <td>...</td>\n",
       "      <td>...</td>\n",
       "      <td>...</td>\n",
       "      <td>...</td>\n",
       "      <td>...</td>\n",
       "    </tr>\n",
       "    <tr>\n",
       "      <th>1105220</th>\n",
       "      <td>Jeremiah</td>\n",
       "      <td>Burke</td>\n",
       "      <td>christopher34@gmail.com</td>\n",
       "      <td>West Ann</td>\n",
       "      <td>9759 Richards Spring</td>\n",
       "      <td>Montana</td>\n",
       "      <td>2020-06-06</td>\n",
       "      <td>dd62bfaf-46be-46d2-a740-59e4a47dd6fd</td>\n",
       "      <td>08:33 PM</td>\n",
       "      <td>1</td>\n",
       "      <td>Cotton 'Royal Red Jaipur' Skirt (India) by Novica</td>\n",
       "      <td>pink</td>\n",
       "      <td>leather</td>\n",
       "      <td>44.99</td>\n",
       "      <td>water friendly</td>\n",
       "      <td>skateboarding</td>\n",
       "      <td>44.99</td>\n",
       "      <td>2020-06-06</td>\n",
       "    </tr>\n",
       "    <tr>\n",
       "      <th>1105224</th>\n",
       "      <td>Tanya</td>\n",
       "      <td>Nelson</td>\n",
       "      <td>mingram@pierce-smith.com</td>\n",
       "      <td>East Hannahport</td>\n",
       "      <td>03807 Michael Circle Apt. 687</td>\n",
       "      <td>Iowa</td>\n",
       "      <td>2020-04-30</td>\n",
       "      <td>bd1b4338-2c18-4b8c-b5f7-2fccf8d6d692</td>\n",
       "      <td>03:53 AM</td>\n",
       "      <td>1</td>\n",
       "      <td>Cotton 'Royal Red Jaipur' Skirt (India) by Novica</td>\n",
       "      <td>pink</td>\n",
       "      <td>leather</td>\n",
       "      <td>44.99</td>\n",
       "      <td>water friendly</td>\n",
       "      <td>skateboarding</td>\n",
       "      <td>44.99</td>\n",
       "      <td>2020-04-30</td>\n",
       "    </tr>\n",
       "    <tr>\n",
       "      <th>1105229</th>\n",
       "      <td>Nathan</td>\n",
       "      <td>Campos</td>\n",
       "      <td>scottstephanie@briggs.com</td>\n",
       "      <td>West Charlesburgh</td>\n",
       "      <td>6477 Jacqueline Curve</td>\n",
       "      <td>Vermont</td>\n",
       "      <td>2020-04-10</td>\n",
       "      <td>b8590c29-1202-4336-92ae-ae73a69f7783</td>\n",
       "      <td>06:42 PM</td>\n",
       "      <td>1</td>\n",
       "      <td>Cotton 'Royal Red Jaipur' Skirt (India) by Novica</td>\n",
       "      <td>pink</td>\n",
       "      <td>leather</td>\n",
       "      <td>44.99</td>\n",
       "      <td>water friendly</td>\n",
       "      <td>skateboarding</td>\n",
       "      <td>44.99</td>\n",
       "      <td>2020-04-10</td>\n",
       "    </tr>\n",
       "    <tr>\n",
       "      <th>1105236</th>\n",
       "      <td>Timothy</td>\n",
       "      <td>Chapman</td>\n",
       "      <td>cochranconnie@zimmerman.net</td>\n",
       "      <td>Michaelfurt</td>\n",
       "      <td>735 Ward Coves</td>\n",
       "      <td>Mississippi</td>\n",
       "      <td>2020-04-01</td>\n",
       "      <td>839f52d5-2732-4b6d-a8da-6f15c09fe140</td>\n",
       "      <td>03:24 AM</td>\n",
       "      <td>1</td>\n",
       "      <td>Cotton 'Royal Red Jaipur' Skirt (India) by Novica</td>\n",
       "      <td>pink</td>\n",
       "      <td>leather</td>\n",
       "      <td>44.99</td>\n",
       "      <td>water friendly</td>\n",
       "      <td>skateboarding</td>\n",
       "      <td>44.99</td>\n",
       "      <td>2020-04-01</td>\n",
       "    </tr>\n",
       "    <tr>\n",
       "      <th>1105238</th>\n",
       "      <td>Anthony</td>\n",
       "      <td>Rivas</td>\n",
       "      <td>christophercarroll@hotmail.com</td>\n",
       "      <td>Christopherside</td>\n",
       "      <td>960 Cooper Inlet Apt. 088</td>\n",
       "      <td>New Mexico</td>\n",
       "      <td>2020-05-08</td>\n",
       "      <td>65c484c1-b3e3-4d57-a797-dee54717d9da</td>\n",
       "      <td>08:47 PM</td>\n",
       "      <td>1</td>\n",
       "      <td>Cotton 'Royal Red Jaipur' Skirt (India) by Novica</td>\n",
       "      <td>pink</td>\n",
       "      <td>leather</td>\n",
       "      <td>44.99</td>\n",
       "      <td>water friendly</td>\n",
       "      <td>skateboarding</td>\n",
       "      <td>44.99</td>\n",
       "      <td>2020-05-08</td>\n",
       "    </tr>\n",
       "  </tbody>\n",
       "</table>\n",
       "<p>138722 rows × 18 columns</p>\n",
       "</div>"
      ],
      "text/plain": [
       "        first_name last_name                           email  \\\n",
       "16           Kelly    Cooper         john15@ford-robbins.net   \n",
       "28        Courtney     White          andrewdalton@lynch.com   \n",
       "29          Harold     Floyd               urogers@yahoo.com   \n",
       "39           Jared     Jones            fjohnson@hotmail.com   \n",
       "45          Thomas    Wilson  antonio54@bennett-richards.biz   \n",
       "...            ...       ...                             ...   \n",
       "1105220   Jeremiah     Burke         christopher34@gmail.com   \n",
       "1105224      Tanya    Nelson        mingram@pierce-smith.com   \n",
       "1105229     Nathan    Campos       scottstephanie@briggs.com   \n",
       "1105236    Timothy   Chapman     cochranconnie@zimmerman.net   \n",
       "1105238    Anthony     Rivas  christophercarroll@hotmail.com   \n",
       "\n",
       "                       city                        address         state  \\\n",
       "16         South Shaunburgh    30291 Ward Estates Apt. 026       Montana   \n",
       "28               West Laura     0735 Rivas Haven Suite 222   Connecticut   \n",
       "29       South Melanieburgh           584 Jonathan Heights       Georgia   \n",
       "39              South Megan       0850 Kaiser Row Apt. 873  Pennsylvania   \n",
       "45               Sparksfurt           07199 Santiago Ports        Kansas   \n",
       "...                     ...                            ...           ...   \n",
       "1105220            West Ann           9759 Richards Spring       Montana   \n",
       "1105224     East Hannahport  03807 Michael Circle Apt. 687          Iowa   \n",
       "1105229   West Charlesburgh          6477 Jacqueline Curve       Vermont   \n",
       "1105236         Michaelfurt                 735 Ward Coves   Mississippi   \n",
       "1105238     Christopherside      960 Cooper Inlet Apt. 088    New Mexico   \n",
       "\n",
       "        transactionDate                         transactionID      time  \\\n",
       "16           2020-04-05  b65e96c1-2338-46a2-9623-ba9da6c8d81a  03:04 PM   \n",
       "28           2020-05-02  a5c6be32-69a4-44c2-bbf5-376de942c7a9  09:01 PM   \n",
       "29           2020-04-23  ffecd576-7f09-4c33-8ada-a42098e21b9e  12:07 PM   \n",
       "39           2020-04-06  0ca69e3c-4e32-4805-a4ca-a990aa6d7a76  12:34 AM   \n",
       "45           2020-04-30  5ee3c482-1f91-4be7-b3bd-b7bdc48d3330  12:28 PM   \n",
       "...                 ...                                   ...       ...   \n",
       "1105220      2020-06-06  dd62bfaf-46be-46d2-a740-59e4a47dd6fd  08:33 PM   \n",
       "1105224      2020-04-30  bd1b4338-2c18-4b8c-b5f7-2fccf8d6d692  03:53 AM   \n",
       "1105229      2020-04-10  b8590c29-1202-4336-92ae-ae73a69f7783  06:42 PM   \n",
       "1105236      2020-04-01  839f52d5-2732-4b6d-a8da-6f15c09fe140  03:24 AM   \n",
       "1105238      2020-05-08  65c484c1-b3e3-4d57-a797-dee54717d9da  08:47 PM   \n",
       "\n",
       "         quantity                                               name  color  \\\n",
       "16              1                 'waffle Spa Slide' Slipper (women)  green   \n",
       "28              1                 'waffle Spa Slide' Slipper (women)  green   \n",
       "29              3                 'waffle Spa Slide' Slipper (women)  green   \n",
       "39              1                 'waffle Spa Slide' Slipper (women)  green   \n",
       "45              3                 'waffle Spa Slide' Slipper (women)  green   \n",
       "...           ...                                                ...    ...   \n",
       "1105220         1  Cotton 'Royal Red Jaipur' Skirt (India) by Novica   pink   \n",
       "1105224         1  Cotton 'Royal Red Jaipur' Skirt (India) by Novica   pink   \n",
       "1105229         1  Cotton 'Royal Red Jaipur' Skirt (India) by Novica   pink   \n",
       "1105236         1  Cotton 'Royal Red Jaipur' Skirt (India) by Novica   pink   \n",
       "1105238         1  Cotton 'Royal Red Jaipur' Skirt (India) by Novica   pink   \n",
       "\n",
       "        materials  prices            feature       category    cost  \\\n",
       "16        leather   59.95  recycled material         wedges   59.95   \n",
       "28        leather   59.95  recycled material         wedges   59.95   \n",
       "29        leather   59.95  recycled material         wedges  179.85   \n",
       "39        leather   59.95  recycled material         wedges   59.95   \n",
       "45        leather   59.95  recycled material         wedges  179.85   \n",
       "...           ...     ...                ...            ...     ...   \n",
       "1105220   leather   44.99     water friendly  skateboarding   44.99   \n",
       "1105224   leather   44.99     water friendly  skateboarding   44.99   \n",
       "1105229   leather   44.99     water friendly  skateboarding   44.99   \n",
       "1105236   leather   44.99     water friendly  skateboarding   44.99   \n",
       "1105238   leather   44.99     water friendly  skateboarding   44.99   \n",
       "\n",
       "               Date  \n",
       "16       2020-04-05  \n",
       "28       2020-05-02  \n",
       "29       2020-04-23  \n",
       "39       2020-04-06  \n",
       "45       2020-04-30  \n",
       "...             ...  \n",
       "1105220  2020-06-06  \n",
       "1105224  2020-04-30  \n",
       "1105229  2020-04-10  \n",
       "1105236  2020-04-01  \n",
       "1105238  2020-05-08  \n",
       "\n",
       "[138722 rows x 18 columns]"
      ]
     },
     "execution_count": 5,
     "metadata": {},
     "output_type": "execute_result"
    }
   ],
   "source": [
    "Q22020 = store[store.transactionDate.between('2020-04-01', '2020-06-30')]\n",
    "Q22020"
   ]
  },
  {
   "cell_type": "code",
   "execution_count": 6,
   "metadata": {},
   "outputs": [
    {
     "data": {
      "text/html": [
       "<div>\n",
       "<style scoped>\n",
       "    .dataframe tbody tr th:only-of-type {\n",
       "        vertical-align: middle;\n",
       "    }\n",
       "\n",
       "    .dataframe tbody tr th {\n",
       "        vertical-align: top;\n",
       "    }\n",
       "\n",
       "    .dataframe thead th {\n",
       "        text-align: right;\n",
       "    }\n",
       "</style>\n",
       "<table border=\"1\" class=\"dataframe\">\n",
       "  <thead>\n",
       "    <tr style=\"text-align: right;\">\n",
       "      <th></th>\n",
       "      <th>quantity</th>\n",
       "      <th>prices</th>\n",
       "      <th>cost</th>\n",
       "    </tr>\n",
       "    <tr>\n",
       "      <th>name</th>\n",
       "      <th></th>\n",
       "      <th></th>\n",
       "      <th></th>\n",
       "    </tr>\n",
       "  </thead>\n",
       "  <tbody>\n",
       "    <tr>\n",
       "      <th>Mirak Womens 12482-18788 Khaki Lace Up Waterproof Walking Boot 3</th>\n",
       "      <td>24</td>\n",
       "      <td>68320.0</td>\n",
       "      <td>102480.0</td>\n",
       "    </tr>\n",
       "  </tbody>\n",
       "</table>\n",
       "</div>"
      ],
      "text/plain": [
       "                                                    quantity   prices  \\\n",
       "name                                                                    \n",
       "Mirak Womens 12482-18788 Khaki Lace Up Waterpro...        24  68320.0   \n",
       "\n",
       "                                                        cost  \n",
       "name                                                          \n",
       "Mirak Womens 12482-18788 Khaki Lace Up Waterpro...  102480.0  "
      ]
     },
     "execution_count": 6,
     "metadata": {},
     "output_type": "execute_result"
    }
   ],
   "source": [
    "best_selling_shoe_2020_Q2 = Q22020.groupby(by='name').sum().sort_values('cost', ascending=False)[:1]\n",
    "best_selling_shoe_2020_Q2"
   ]
  },
  {
   "cell_type": "code",
   "execution_count": 7,
   "metadata": {},
   "outputs": [
    {
     "data": {
      "text/plain": [
       "20348502.18"
      ]
     },
     "execution_count": 7,
     "metadata": {},
     "output_type": "execute_result"
    }
   ],
   "source": [
    "Q22020['cost'].sum()"
   ]
  },
  {
   "cell_type": "markdown",
   "metadata": {},
   "source": [
    "The bestselling shoe of the second quarter of 2020 was the Mirak Womens 12482-18788 Khaki Lace Up Waterproof Walking Boot 3 at $102,480.0.$  Total sales for the second quarter of 2020 amounted to $20,348,502.18."
   ]
  },
  {
   "cell_type": "markdown",
   "metadata": {},
   "source": [
    "Question 1B: How did it compare to that shoe's sales in 2019 Q2? Is it the hottest selling shoe in Q2 2019? What else can you say about the Q2 2019 versus Q2 2020 performance of this shoe relative to other top sellers during these quarters?"
   ]
  },
  {
   "cell_type": "code",
   "execution_count": 8,
   "metadata": {},
   "outputs": [
    {
     "data": {
      "text/plain": [
       "102480.0"
      ]
     },
     "execution_count": 8,
     "metadata": {},
     "output_type": "execute_result"
    }
   ],
   "source": [
    "Q22019 = store[store.transactionDate.between('2019-04-01', '2019-06-30')]\n",
    "Mirak_Womens_Boot = Q22019[(Q22019.name == 'Mirak Womens 12482-18788 Khaki Lace Up Waterproof Walking Boot 3')]\n",
    "Mirak_Womens_Boot.cost.sum()"
   ]
  },
  {
   "cell_type": "code",
   "execution_count": 9,
   "metadata": {},
   "outputs": [
    {
     "data": {
      "text/html": [
       "<div>\n",
       "<style scoped>\n",
       "    .dataframe tbody tr th:only-of-type {\n",
       "        vertical-align: middle;\n",
       "    }\n",
       "\n",
       "    .dataframe tbody tr th {\n",
       "        vertical-align: top;\n",
       "    }\n",
       "\n",
       "    .dataframe thead th {\n",
       "        text-align: right;\n",
       "    }\n",
       "</style>\n",
       "<table border=\"1\" class=\"dataframe\">\n",
       "  <thead>\n",
       "    <tr style=\"text-align: right;\">\n",
       "      <th></th>\n",
       "      <th>quantity</th>\n",
       "      <th>prices</th>\n",
       "      <th>cost</th>\n",
       "    </tr>\n",
       "    <tr>\n",
       "      <th>name</th>\n",
       "      <th></th>\n",
       "      <th></th>\n",
       "      <th></th>\n",
       "    </tr>\n",
       "  </thead>\n",
       "  <tbody>\n",
       "    <tr>\n",
       "      <th>Diamond Eternity Band</th>\n",
       "      <td>33</td>\n",
       "      <td>83979.80</td>\n",
       "      <td>138566.67</td>\n",
       "    </tr>\n",
       "    <tr>\n",
       "      <th>Yu&amp;yu Women's Shoes Round Toe Chunky Heel Oxfords Shoes More Colors Available</th>\n",
       "      <td>1218</td>\n",
       "      <td>82836.72</td>\n",
       "      <td>133459.16</td>\n",
       "    </tr>\n",
       "    <tr>\n",
       "      <th>Mirak Womens 12482-18788 Khaki Lace Up Waterproof Walking Boot 3</th>\n",
       "      <td>24</td>\n",
       "      <td>72590.00</td>\n",
       "      <td>102480.00</td>\n",
       "    </tr>\n",
       "    <tr>\n",
       "      <th>Yu&amp;yu Women's Shoes Round Toe Low Heel Oxfords Shoes More Colors Available</th>\n",
       "      <td>680</td>\n",
       "      <td>41560.41</td>\n",
       "      <td>74371.26</td>\n",
       "    </tr>\n",
       "    <tr>\n",
       "      <th>'pebbles' Tall Gladiator Pump (women)</th>\n",
       "      <td>26</td>\n",
       "      <td>36800.00</td>\n",
       "      <td>59800.00</td>\n",
       "    </tr>\n",
       "  </tbody>\n",
       "</table>\n",
       "</div>"
      ],
      "text/plain": [
       "                                                    quantity    prices  \\\n",
       "name                                                                     \n",
       "Diamond Eternity Band                                     33  83979.80   \n",
       "Yu&yu Women's Shoes Round Toe Chunky Heel Oxfor...      1218  82836.72   \n",
       "Mirak Womens 12482-18788 Khaki Lace Up Waterpro...        24  72590.00   \n",
       "Yu&yu Women's Shoes Round Toe Low Heel Oxfords ...       680  41560.41   \n",
       "'pebbles' Tall Gladiator Pump (women)                     26  36800.00   \n",
       "\n",
       "                                                         cost  \n",
       "name                                                           \n",
       "Diamond Eternity Band                               138566.67  \n",
       "Yu&yu Women's Shoes Round Toe Chunky Heel Oxfor...  133459.16  \n",
       "Mirak Womens 12482-18788 Khaki Lace Up Waterpro...  102480.00  \n",
       "Yu&yu Women's Shoes Round Toe Low Heel Oxfords ...   74371.26  \n",
       "'pebbles' Tall Gladiator Pump (women)                59800.00  "
      ]
     },
     "execution_count": 9,
     "metadata": {},
     "output_type": "execute_result"
    }
   ],
   "source": [
    "best_selling_shoe_2019_Q2 = Q22019.groupby(by='name').sum().sort_values('cost', ascending=False)[:5]\n",
    "best_selling_shoe_2019_Q2"
   ]
  },
  {
   "cell_type": "markdown",
   "metadata": {},
   "source": [
    "The Mirak Womens Boot total sales of 102,480 in Q2 2020 was the exact same number in sales as in Q2 2019. The top three sellers in Q2 2019 respectively had sales of 138,566.67, 133,459.16 and 102,480. While the Mirak Womens Boot was not the top seller in Q2 2020, the total sales of Q2 2020 posed a general increase in sales."
   ]
  },
  {
   "cell_type": "markdown",
   "metadata": {},
   "source": [
    "## Question 2\n",
    "\n",
    "Over the life of the collected data,\n",
    "\n",
    "**(2a)** What state has the highest total sales?  \n",
    "\n",
    "**(2b)** Which state/district/terrritory sold the most shoes over this same period?  \n",
    "\n",
    "**(2c)** Which state/district/terrritory sold the least number of shoes over this period?"
   ]
  },
  {
   "cell_type": "code",
   "execution_count": 10,
   "metadata": {},
   "outputs": [
    {
     "data": {
      "text/html": [
       "<div>\n",
       "<style scoped>\n",
       "    .dataframe tbody tr th:only-of-type {\n",
       "        vertical-align: middle;\n",
       "    }\n",
       "\n",
       "    .dataframe tbody tr th {\n",
       "        vertical-align: top;\n",
       "    }\n",
       "\n",
       "    .dataframe thead th {\n",
       "        text-align: right;\n",
       "    }\n",
       "</style>\n",
       "<table border=\"1\" class=\"dataframe\">\n",
       "  <thead>\n",
       "    <tr style=\"text-align: right;\">\n",
       "      <th></th>\n",
       "      <th>quantity</th>\n",
       "      <th>prices</th>\n",
       "      <th>cost</th>\n",
       "    </tr>\n",
       "    <tr>\n",
       "      <th>state</th>\n",
       "      <th></th>\n",
       "      <th></th>\n",
       "      <th></th>\n",
       "    </tr>\n",
       "  </thead>\n",
       "  <tbody>\n",
       "    <tr>\n",
       "      <th>Texas</th>\n",
       "      <td>43399</td>\n",
       "      <td>2534360.26</td>\n",
       "      <td>4046697.79</td>\n",
       "    </tr>\n",
       "  </tbody>\n",
       "</table>\n",
       "</div>"
      ],
      "text/plain": [
       "       quantity      prices        cost\n",
       "state                                  \n",
       "Texas     43399  2534360.26  4046697.79"
      ]
     },
     "execution_count": 10,
     "metadata": {},
     "output_type": "execute_result"
    }
   ],
   "source": [
    "state_highest_sales = store.groupby(by='state').sum().sort_values('cost', ascending=False)[:1]\n",
    "state_highest_sales"
   ]
  },
  {
   "cell_type": "code",
   "execution_count": 11,
   "metadata": {},
   "outputs": [
    {
     "data": {
      "text/html": [
       "<div>\n",
       "<style scoped>\n",
       "    .dataframe tbody tr th:only-of-type {\n",
       "        vertical-align: middle;\n",
       "    }\n",
       "\n",
       "    .dataframe tbody tr th {\n",
       "        vertical-align: top;\n",
       "    }\n",
       "\n",
       "    .dataframe thead th {\n",
       "        text-align: right;\n",
       "    }\n",
       "</style>\n",
       "<table border=\"1\" class=\"dataframe\">\n",
       "  <thead>\n",
       "    <tr style=\"text-align: right;\">\n",
       "      <th></th>\n",
       "      <th>quantity</th>\n",
       "      <th>prices</th>\n",
       "      <th>cost</th>\n",
       "    </tr>\n",
       "    <tr>\n",
       "      <th>state</th>\n",
       "      <th></th>\n",
       "      <th></th>\n",
       "      <th></th>\n",
       "    </tr>\n",
       "  </thead>\n",
       "  <tbody>\n",
       "    <tr>\n",
       "      <th>Texas</th>\n",
       "      <td>43399</td>\n",
       "      <td>2534360.26</td>\n",
       "      <td>4046697.79</td>\n",
       "    </tr>\n",
       "  </tbody>\n",
       "</table>\n",
       "</div>"
      ],
      "text/plain": [
       "       quantity      prices        cost\n",
       "state                                  \n",
       "Texas     43399  2534360.26  4046697.79"
      ]
     },
     "execution_count": 11,
     "metadata": {},
     "output_type": "execute_result"
    }
   ],
   "source": [
    "state_most_shoe_sales = store.groupby(by='state').sum().sort_values('quantity', ascending=False)[:1]\n",
    "state_most_shoe_sales"
   ]
  },
  {
   "cell_type": "code",
   "execution_count": 12,
   "metadata": {},
   "outputs": [
    {
     "data": {
      "text/html": [
       "<div>\n",
       "<style scoped>\n",
       "    .dataframe tbody tr th:only-of-type {\n",
       "        vertical-align: middle;\n",
       "    }\n",
       "\n",
       "    .dataframe tbody tr th {\n",
       "        vertical-align: top;\n",
       "    }\n",
       "\n",
       "    .dataframe thead th {\n",
       "        text-align: right;\n",
       "    }\n",
       "</style>\n",
       "<table border=\"1\" class=\"dataframe\">\n",
       "  <thead>\n",
       "    <tr style=\"text-align: right;\">\n",
       "      <th></th>\n",
       "      <th>quantity</th>\n",
       "      <th>prices</th>\n",
       "      <th>cost</th>\n",
       "    </tr>\n",
       "    <tr>\n",
       "      <th>state</th>\n",
       "      <th></th>\n",
       "      <th></th>\n",
       "      <th></th>\n",
       "    </tr>\n",
       "  </thead>\n",
       "  <tbody>\n",
       "    <tr>\n",
       "      <th>District of Columbia</th>\n",
       "      <td>2770</td>\n",
       "      <td>156416.91</td>\n",
       "      <td>256872.67</td>\n",
       "    </tr>\n",
       "  </tbody>\n",
       "</table>\n",
       "</div>"
      ],
      "text/plain": [
       "                      quantity     prices       cost\n",
       "state                                               \n",
       "District of Columbia      2770  156416.91  256872.67"
      ]
     },
     "execution_count": 12,
     "metadata": {},
     "output_type": "execute_result"
    }
   ],
   "source": [
    "state_least_shoe_sales = store.groupby(by='state').sum().sort_values('quantity', ascending=True)[:1]\n",
    "state_least_shoe_sales"
   ]
  },
  {
   "cell_type": "markdown",
   "metadata": {},
   "source": [
    "Over the life of the data, Texas has had the highest total sales with $4,046, 697.79."
   ]
  },
  {
   "cell_type": "markdown",
   "metadata": {},
   "source": [
    "Texas has sold the most shoes: 43,399."
   ]
  },
  {
   "cell_type": "markdown",
   "metadata": {},
   "source": [
    "D.C. has sold the fewest shoes: 2770."
   ]
  },
  {
   "cell_type": "markdown",
   "metadata": {},
   "source": [
    "## Question 3\n",
    "Jenna Flatbush wants to know what combination of shoes to introduce into low-performing cities.  You came up with the idea that they should start marketing combinations that are already selling well.\n",
    "\n",
    "**(3.)** What combination of attributes have the most sales? [ color, materials, feature, category ]"
   ]
  },
  {
   "cell_type": "code",
   "execution_count": 13,
   "metadata": {},
   "outputs": [
    {
     "data": {
      "text/html": [
       "<div>\n",
       "<style scoped>\n",
       "    .dataframe tbody tr th:only-of-type {\n",
       "        vertical-align: middle;\n",
       "    }\n",
       "\n",
       "    .dataframe tbody tr th {\n",
       "        vertical-align: top;\n",
       "    }\n",
       "\n",
       "    .dataframe thead th {\n",
       "        text-align: right;\n",
       "    }\n",
       "</style>\n",
       "<table border=\"1\" class=\"dataframe\">\n",
       "  <thead>\n",
       "    <tr style=\"text-align: right;\">\n",
       "      <th></th>\n",
       "      <th></th>\n",
       "      <th></th>\n",
       "      <th></th>\n",
       "      <th>cost</th>\n",
       "    </tr>\n",
       "    <tr>\n",
       "      <th>category</th>\n",
       "      <th>materials</th>\n",
       "      <th>feature</th>\n",
       "      <th>color</th>\n",
       "      <th></th>\n",
       "    </tr>\n",
       "  </thead>\n",
       "  <tbody>\n",
       "    <tr>\n",
       "      <th rowspan=\"2\" valign=\"top\">wedges</th>\n",
       "      <th>leather</th>\n",
       "      <th>travel friendly</th>\n",
       "      <th>black</th>\n",
       "      <td>881131.43</td>\n",
       "    </tr>\n",
       "    <tr>\n",
       "      <th>rubber</th>\n",
       "      <th>diabetic approved</th>\n",
       "      <th>black</th>\n",
       "      <td>713090.00</td>\n",
       "    </tr>\n",
       "    <tr>\n",
       "      <th>heels</th>\n",
       "      <th>leather</th>\n",
       "      <th>padding</th>\n",
       "      <th>black</th>\n",
       "      <td>523562.83</td>\n",
       "    </tr>\n",
       "    <tr>\n",
       "      <th>wedges</th>\n",
       "      <th>nubuck</th>\n",
       "      <th>strappy</th>\n",
       "      <th>metallic</th>\n",
       "      <td>473800.00</td>\n",
       "    </tr>\n",
       "    <tr>\n",
       "      <th>sandals</th>\n",
       "      <th>leather</th>\n",
       "      <th>wearable tech</th>\n",
       "      <th>black</th>\n",
       "      <td>409756.96</td>\n",
       "    </tr>\n",
       "  </tbody>\n",
       "</table>\n",
       "</div>"
      ],
      "text/plain": [
       "                                                    cost\n",
       "category materials feature           color              \n",
       "wedges   leather   travel friendly   black     881131.43\n",
       "         rubber    diabetic approved black     713090.00\n",
       "heels    leather   padding           black     523562.83\n",
       "wedges   nubuck    strappy           metallic  473800.00\n",
       "sandals  leather   wearable tech     black     409756.96"
      ]
     },
     "execution_count": 13,
     "metadata": {},
     "output_type": "execute_result"
    }
   ],
   "source": [
    "store.groupby(['category', 'materials', 'feature', 'color'])[['cost']].agg('sum').sort_values('cost', ascending=False)[:5]"
   ]
  },
  {
   "cell_type": "code",
   "execution_count": 14,
   "metadata": {},
   "outputs": [
    {
     "data": {
      "text/html": [
       "<div>\n",
       "<style scoped>\n",
       "    .dataframe tbody tr th:only-of-type {\n",
       "        vertical-align: middle;\n",
       "    }\n",
       "\n",
       "    .dataframe tbody tr th {\n",
       "        vertical-align: top;\n",
       "    }\n",
       "\n",
       "    .dataframe thead th {\n",
       "        text-align: right;\n",
       "    }\n",
       "</style>\n",
       "<table border=\"1\" class=\"dataframe\">\n",
       "  <thead>\n",
       "    <tr style=\"text-align: right;\">\n",
       "      <th></th>\n",
       "      <th></th>\n",
       "      <th></th>\n",
       "      <th></th>\n",
       "      <th>quantity</th>\n",
       "    </tr>\n",
       "    <tr>\n",
       "      <th>category</th>\n",
       "      <th>materials</th>\n",
       "      <th>feature</th>\n",
       "      <th>color</th>\n",
       "      <th></th>\n",
       "    </tr>\n",
       "  </thead>\n",
       "  <tbody>\n",
       "    <tr>\n",
       "      <th rowspan=\"2\" valign=\"top\">heels</th>\n",
       "      <th rowspan=\"2\" valign=\"top\">leather</th>\n",
       "      <th>orthotic friendly</th>\n",
       "      <th>black</th>\n",
       "      <td>2633</td>\n",
       "    </tr>\n",
       "    <tr>\n",
       "      <th>lightweight</th>\n",
       "      <th>black</th>\n",
       "      <td>2343</td>\n",
       "    </tr>\n",
       "    <tr>\n",
       "      <th>sandals</th>\n",
       "      <th>leather</th>\n",
       "      <th>diabetic approved</th>\n",
       "      <th>black</th>\n",
       "      <td>2264</td>\n",
       "    </tr>\n",
       "    <tr>\n",
       "      <th>wedges</th>\n",
       "      <th>leather</th>\n",
       "      <th>stain-resistant</th>\n",
       "      <th>black</th>\n",
       "      <td>2245</td>\n",
       "    </tr>\n",
       "    <tr>\n",
       "      <th>heels</th>\n",
       "      <th>leather</th>\n",
       "      <th>insulated</th>\n",
       "      <th>black</th>\n",
       "      <td>2214</td>\n",
       "    </tr>\n",
       "  </tbody>\n",
       "</table>\n",
       "</div>"
      ],
      "text/plain": [
       "                                            quantity\n",
       "category materials feature           color          \n",
       "heels    leather   orthotic friendly black      2633\n",
       "                   lightweight       black      2343\n",
       "sandals  leather   diabetic approved black      2264\n",
       "wedges   leather   stain-resistant   black      2245\n",
       "heels    leather   insulated         black      2214"
      ]
     },
     "execution_count": 14,
     "metadata": {},
     "output_type": "execute_result"
    }
   ],
   "source": [
    "store.groupby(['category', 'materials', 'feature', 'color'])[['quantity']].agg('sum').sort_values('quantity', ascending=False)[:5]"
   ]
  },
  {
   "cell_type": "markdown",
   "metadata": {},
   "source": [
    "In terms of total money made, travel-friendly black leather wedges have the most sales. In terms of number of items sold, orthotic-friendly black leather heels have the most sales."
   ]
  },
  {
   "cell_type": "markdown",
   "metadata": {},
   "source": [
    "## Question 4\n",
    "\n",
    "Jamaica Flatbush is unsure of how Shunique performed last year (2019). \n",
    "\n",
    "**(4a)** What were total sales?\n",
    "\n",
    "**(4b)** Plot daily, monthly, quarterly sales for 2019. \n",
    "\n",
    "**(4c)** Are there any trends? \n",
    "\n",
    "**(4d)** In the monthly sales data, describe a significant event (ie. increase or decrease in sales) and hypothesize(make a wild guest) about its existence? What additional evidence(data) would be needed to support or negate your hypothesis."
   ]
  },
  {
   "cell_type": "code",
   "execution_count": 15,
   "metadata": {
    "scrolled": true
   },
   "outputs": [
    {
     "data": {
      "text/html": [
       "<div>\n",
       "<style scoped>\n",
       "    .dataframe tbody tr th:only-of-type {\n",
       "        vertical-align: middle;\n",
       "    }\n",
       "\n",
       "    .dataframe tbody tr th {\n",
       "        vertical-align: top;\n",
       "    }\n",
       "\n",
       "    .dataframe thead th {\n",
       "        text-align: right;\n",
       "    }\n",
       "</style>\n",
       "<table border=\"1\" class=\"dataframe\">\n",
       "  <thead>\n",
       "    <tr style=\"text-align: right;\">\n",
       "      <th></th>\n",
       "      <th>first_name</th>\n",
       "      <th>last_name</th>\n",
       "      <th>email</th>\n",
       "      <th>city</th>\n",
       "      <th>address</th>\n",
       "      <th>state</th>\n",
       "      <th>transactionDate</th>\n",
       "      <th>transactionID</th>\n",
       "      <th>time</th>\n",
       "      <th>quantity</th>\n",
       "      <th>name</th>\n",
       "      <th>color</th>\n",
       "      <th>materials</th>\n",
       "      <th>prices</th>\n",
       "      <th>feature</th>\n",
       "      <th>category</th>\n",
       "      <th>cost</th>\n",
       "      <th>Date</th>\n",
       "    </tr>\n",
       "  </thead>\n",
       "  <tbody>\n",
       "    <tr>\n",
       "      <th>0</th>\n",
       "      <td>Ximenes</td>\n",
       "      <td>Oxshott</td>\n",
       "      <td>xoxshott0@biglobe.ne.jp</td>\n",
       "      <td>Idaho Falls</td>\n",
       "      <td>5 Pearson Plaza</td>\n",
       "      <td>Idaho</td>\n",
       "      <td>2019-04-04</td>\n",
       "      <td>6e3e9c86-2251-44bc-8249-8045e5406cca</td>\n",
       "      <td>7:07 PM</td>\n",
       "      <td>2</td>\n",
       "      <td>'waffle Spa Slide' Slipper (women)</td>\n",
       "      <td>green</td>\n",
       "      <td>leather</td>\n",
       "      <td>59.95</td>\n",
       "      <td>recycled material</td>\n",
       "      <td>wedges</td>\n",
       "      <td>119.90</td>\n",
       "      <td>2019-04-04</td>\n",
       "    </tr>\n",
       "    <tr>\n",
       "      <th>1</th>\n",
       "      <td>Urson</td>\n",
       "      <td>Wilcox</td>\n",
       "      <td>uwilcox2w@weather.com</td>\n",
       "      <td>Lima</td>\n",
       "      <td>8 Muir Road</td>\n",
       "      <td>Ohio</td>\n",
       "      <td>2019-02-03</td>\n",
       "      <td>aaacafb6-112c-41ad-baf1-44b54b17170b</td>\n",
       "      <td>3:21 AM</td>\n",
       "      <td>1</td>\n",
       "      <td>'waffle Spa Slide' Slipper (women)</td>\n",
       "      <td>green</td>\n",
       "      <td>leather</td>\n",
       "      <td>59.95</td>\n",
       "      <td>recycled material</td>\n",
       "      <td>wedges</td>\n",
       "      <td>59.95</td>\n",
       "      <td>2019-02-03</td>\n",
       "    </tr>\n",
       "    <tr>\n",
       "      <th>2</th>\n",
       "      <td>Svend</td>\n",
       "      <td>De la Feld</td>\n",
       "      <td>sdelafeld58@last.fm</td>\n",
       "      <td>Wilmington</td>\n",
       "      <td>0 5th Pass</td>\n",
       "      <td>Delaware</td>\n",
       "      <td>2019-07-21</td>\n",
       "      <td>3727a9ae-9914-421c-9adc-eb4f1dd010f4</td>\n",
       "      <td>5:04 AM</td>\n",
       "      <td>2</td>\n",
       "      <td>'waffle Spa Slide' Slipper (women)</td>\n",
       "      <td>green</td>\n",
       "      <td>leather</td>\n",
       "      <td>59.95</td>\n",
       "      <td>recycled material</td>\n",
       "      <td>wedges</td>\n",
       "      <td>119.90</td>\n",
       "      <td>2019-07-21</td>\n",
       "    </tr>\n",
       "    <tr>\n",
       "      <th>3</th>\n",
       "      <td>Laura</td>\n",
       "      <td>Potts</td>\n",
       "      <td>bmartin@scott-carr.info</td>\n",
       "      <td>Rodriguezmouth</td>\n",
       "      <td>03918 Rachel Meadows Apt. 214</td>\n",
       "      <td>Wisconsin</td>\n",
       "      <td>2019-01-26</td>\n",
       "      <td>649691c5-a77f-4ae2-bee1-4894a03b2dd3</td>\n",
       "      <td>06:26 PM</td>\n",
       "      <td>1</td>\n",
       "      <td>'waffle Spa Slide' Slipper (women)</td>\n",
       "      <td>green</td>\n",
       "      <td>leather</td>\n",
       "      <td>59.95</td>\n",
       "      <td>recycled material</td>\n",
       "      <td>wedges</td>\n",
       "      <td>59.95</td>\n",
       "      <td>2019-01-26</td>\n",
       "    </tr>\n",
       "    <tr>\n",
       "      <th>4</th>\n",
       "      <td>Alicia</td>\n",
       "      <td>Barker</td>\n",
       "      <td>wduarte@yahoo.com</td>\n",
       "      <td>Port Elijah</td>\n",
       "      <td>5407 Conrad Divide</td>\n",
       "      <td>Arizona</td>\n",
       "      <td>2019-12-13</td>\n",
       "      <td>140995b6-91f1-465f-9491-c7413112a9ee</td>\n",
       "      <td>03:07 AM</td>\n",
       "      <td>5</td>\n",
       "      <td>'waffle Spa Slide' Slipper (women)</td>\n",
       "      <td>green</td>\n",
       "      <td>leather</td>\n",
       "      <td>59.95</td>\n",
       "      <td>recycled material</td>\n",
       "      <td>wedges</td>\n",
       "      <td>299.75</td>\n",
       "      <td>2019-12-13</td>\n",
       "    </tr>\n",
       "  </tbody>\n",
       "</table>\n",
       "</div>"
      ],
      "text/plain": [
       "  first_name   last_name                    email            city  \\\n",
       "0    Ximenes     Oxshott  xoxshott0@biglobe.ne.jp     Idaho Falls   \n",
       "1      Urson      Wilcox    uwilcox2w@weather.com            Lima   \n",
       "2      Svend  De la Feld      sdelafeld58@last.fm      Wilmington   \n",
       "3      Laura       Potts  bmartin@scott-carr.info  Rodriguezmouth   \n",
       "4     Alicia      Barker        wduarte@yahoo.com     Port Elijah   \n",
       "\n",
       "                         address      state transactionDate  \\\n",
       "0                5 Pearson Plaza      Idaho      2019-04-04   \n",
       "1                    8 Muir Road       Ohio      2019-02-03   \n",
       "2                     0 5th Pass   Delaware      2019-07-21   \n",
       "3  03918 Rachel Meadows Apt. 214  Wisconsin      2019-01-26   \n",
       "4             5407 Conrad Divide    Arizona      2019-12-13   \n",
       "\n",
       "                          transactionID      time  quantity  \\\n",
       "0  6e3e9c86-2251-44bc-8249-8045e5406cca   7:07 PM         2   \n",
       "1  aaacafb6-112c-41ad-baf1-44b54b17170b   3:21 AM         1   \n",
       "2  3727a9ae-9914-421c-9adc-eb4f1dd010f4   5:04 AM         2   \n",
       "3  649691c5-a77f-4ae2-bee1-4894a03b2dd3  06:26 PM         1   \n",
       "4  140995b6-91f1-465f-9491-c7413112a9ee  03:07 AM         5   \n",
       "\n",
       "                                 name  color materials  prices  \\\n",
       "0  'waffle Spa Slide' Slipper (women)  green   leather   59.95   \n",
       "1  'waffle Spa Slide' Slipper (women)  green   leather   59.95   \n",
       "2  'waffle Spa Slide' Slipper (women)  green   leather   59.95   \n",
       "3  'waffle Spa Slide' Slipper (women)  green   leather   59.95   \n",
       "4  'waffle Spa Slide' Slipper (women)  green   leather   59.95   \n",
       "\n",
       "             feature category    cost        Date  \n",
       "0  recycled material   wedges  119.90  2019-04-04  \n",
       "1  recycled material   wedges   59.95  2019-02-03  \n",
       "2  recycled material   wedges  119.90  2019-07-21  \n",
       "3  recycled material   wedges   59.95  2019-01-26  \n",
       "4  recycled material   wedges  299.75  2019-12-13  "
      ]
     },
     "execution_count": 15,
     "metadata": {},
     "output_type": "execute_result"
    }
   ],
   "source": [
    "FY2019 = store[store.transactionDate.between('2019-01-01', '2019-12-31')]\n",
    "FY2019.head()"
   ]
  },
  {
   "cell_type": "markdown",
   "metadata": {},
   "source": [
    "Question 4A: What were total sales?"
   ]
  },
  {
   "cell_type": "code",
   "execution_count": 16,
   "metadata": {},
   "outputs": [
    {
     "data": {
      "text/plain": [
       "87005120.81000003"
      ]
     },
     "execution_count": 16,
     "metadata": {},
     "output_type": "execute_result"
    }
   ],
   "source": [
    "FY2019.cost.sum()"
   ]
  },
  {
   "cell_type": "markdown",
   "metadata": {},
   "source": [
    "2019 Total Sales: $87,005,120.81"
   ]
  },
  {
   "cell_type": "markdown",
   "metadata": {},
   "source": [
    "Question 4B: Plot daily, monthly, quarterly sales for 2019."
   ]
  },
  {
   "cell_type": "code",
   "execution_count": 17,
   "metadata": {},
   "outputs": [],
   "source": [
    "def currency(x, pos):\n",
    "    if x >= 1000000:\n",
    "        return '${:1.1f}M'.format(x*1e-6)\n",
    "    if x < 1000000 and x >= 1000:\n",
    "        return '${:1.1f}K'.format(x*1e-3)\n",
    "    return '${:1.0f}'.format(x)\n",
    "\n",
    "formatter = FuncFormatter(currency)"
   ]
  },
  {
   "cell_type": "code",
   "execution_count": 18,
   "metadata": {},
   "outputs": [],
   "source": [
    "FY2019 = FY2019.set_index('transactionDate')"
   ]
  },
  {
   "cell_type": "code",
   "execution_count": 19,
   "metadata": {},
   "outputs": [
    {
     "data": {
      "image/png": "[encoded data removed]",
      "text/plain": [
       "<Figure size 432x288 with 1 Axes>"
      ]
     },
     "metadata": {
      "needs_background": "light"
     },
     "output_type": "display_data"
    }
   ],
   "source": [
    "daily_sales = FY2019.groupby(pd.Grouper(freq='D'))['cost'].sum()\n",
    "ax = daily_sales.plot()\n",
    "ax.set_title('Daily Sales for 2019')\n",
    "ax.set_ylabel('Daily Sales ($)')\n",
    "ax.set_xlabel('Month')\n",
    "ax.yaxis.set_major_formatter(formatter);"
   ]
  },
  {
   "cell_type": "code",
   "execution_count": 20,
   "metadata": {},
   "outputs": [
    {
     "data": {
      "image/png": "[encoded data removed]",
      "text/plain": [
       "<Figure size 432x288 with 1 Axes>"
      ]
     },
     "metadata": {
      "needs_background": "light"
     },
     "output_type": "display_data"
    }
   ],
   "source": [
    "monthly_sales = FY2019.groupby(pd.Grouper(freq='M'))['cost'].sum()\n",
    "ax = monthly_sales.plot()\n",
    "ax.set_title('Monthly Sales for 2019')\n",
    "ax.set_ylabel('Monthly Sales ($)')\n",
    "ax.set_xlabel('Month')\n",
    "ax.yaxis.set_major_formatter(formatter);"
   ]
  },
  {
   "cell_type": "code",
   "execution_count": 21,
   "metadata": {},
   "outputs": [
    {
     "data": {
      "image/png": "[encoded data removed]",
      "text/plain": [
       "<Figure size 432x288 with 1 Axes>"
      ]
     },
     "metadata": {
      "needs_background": "light"
     },
     "output_type": "display_data"
    }
   ],
   "source": [
    "quarterly_sales = FY2019.groupby(pd.Grouper(freq='Q'))['cost'].sum()\n",
    "ax = quarterly_sales.plot()\n",
    "ax.set_title('Quarterly Sales for 2019')\n",
    "ax.set_ylabel('Quarterly Sales ($)')\n",
    "ax.set_xlabel('Quarter')\n",
    "ax.yaxis.set_major_formatter(formatter);"
   ]
  },
  {
   "cell_type": "markdown",
   "metadata": {},
   "source": [
    "Question 4C: Are there any trends?\n",
    "\n",
    "It appears sales remained steady through the first three quarters of 2019 with a sharp dip between January and February, a relatively moderate increase between February and March, and a drastic increase between September and October (which remains high through December).\n",
    "\n",
    "Question 4D: In the monthly sales data, describe a significant event (ie. increase or decrease in sales) and hypothesize(make a wild guest) about its existence? What additional evidence(data) would be needed to support or negate your hypothesis.\n",
    "\n",
    "The increase in sales between September and October is the most significant event on the 2019 monthly sales chart, more pronounced than any other event on the chart. My hypothesis is that this sharp increase in sales results from spending in advance of Halloween. We would need to look specifically at the types of shoes being sold during this period to confirm whether this hypothesis is accurate."
   ]
  },
  {
   "cell_type": "markdown",
   "metadata": {},
   "source": [
    "## Question 5\n",
    "\n",
    "A key metric for retail sales data is Average Purchase Value(APV).  APV measures the average value of each purchase made by your customers and will often compare that to the average number of units per transaction(ANU). The formula for APV is (Total Sales Revenue / Number of Customers or Transactions)\n",
    "\n",
    "**(5a).** Calculate the Average Purchase Value for Q1 and Q4 of 2019.\n",
    "\n",
    "**(5b).** Calculate the average number of units per transaction for Q1 and Q4\n",
    "\n",
    "**(5c).** Describe the differences between Q1 and Q4 values.  Speculate on possible causes for differences(Hint: Seasonality)"
   ]
  },
  {
   "cell_type": "markdown",
   "metadata": {},
   "source": [
    "Question 5A: Calculate the Average Purchase Value for Q1 and Q4 of 2019."
   ]
  },
  {
   "cell_type": "code",
   "execution_count": 22,
   "metadata": {},
   "outputs": [],
   "source": [
    "Q12019 = store[store.transactionDate.between('2019-01-01', '2019-03-31')]\n",
    "Q42019 = store[store.transactionDate.between('2019-10-01', '2019-12-31')]"
   ]
  },
  {
   "cell_type": "code",
   "execution_count": 23,
   "metadata": {},
   "outputs": [
    {
     "data": {
      "text/plain": [
       "146.7532932057578"
      ]
     },
     "execution_count": 23,
     "metadata": {},
     "output_type": "execute_result"
    }
   ],
   "source": [
    "Q12019.cost.mean()"
   ]
  },
  {
   "cell_type": "code",
   "execution_count": 24,
   "metadata": {},
   "outputs": [
    {
     "data": {
      "text/plain": [
       "182.45593876975147"
      ]
     },
     "execution_count": 24,
     "metadata": {},
     "output_type": "execute_result"
    }
   ],
   "source": [
    "Q42019.cost.mean()"
   ]
  },
  {
   "cell_type": "markdown",
   "metadata": {},
   "source": [
    "APV for the first quarter of 2019 was 146.75. APV for the fourth quarter of 2019 was 182.46."
   ]
  },
  {
   "cell_type": "markdown",
   "metadata": {},
   "source": [
    "Question 5B: Calculate the average number of units per transaction for Q1 and Q4"
   ]
  },
  {
   "cell_type": "code",
   "execution_count": 25,
   "metadata": {},
   "outputs": [
    {
     "data": {
      "text/plain": [
       "1.5485398636386642"
      ]
     },
     "execution_count": 25,
     "metadata": {},
     "output_type": "execute_result"
    }
   ],
   "source": [
    "Q12019.quantity.mean()"
   ]
  },
  {
   "cell_type": "code",
   "execution_count": 26,
   "metadata": {},
   "outputs": [
    {
     "data": {
      "text/plain": [
       "1.9030522562785104"
      ]
     },
     "execution_count": 26,
     "metadata": {},
     "output_type": "execute_result"
    }
   ],
   "source": [
    "Q42019.quantity.mean()"
   ]
  },
  {
   "cell_type": "markdown",
   "metadata": {},
   "source": [
    "Average number of units per transaction for the first quarter of 2019 was 1.55. Average number of units per transaction for the fourth quarter of 2019 was 1.90.\n",
    "\n",
    "Question 5C: Describe the differences between Q1 and Q4 values. Speculate on possible causes for differences(Hint: Seasonality)\n",
    "\n",
    "APV and average number of units per transaction both increased from Q1 to Q4 in 2019. The most probable reason for this is the fact that October and especially November and December tend to be high spending months because of first Halloween and then the winter holidays and gift-buying for Christmas, and spending sharply decreases in January after the winter holidays because gift-buying for the winter holidays most prominently tends to be in advance of Dec 25."
   ]
  },
  {
   "cell_type": "markdown",
   "metadata": {},
   "source": [
    "## Question 6\n",
    "\n",
    "Shunique is looking to expand its distribution centers so that it can outperform Zappos on delivery time to customers.  It is important to know what states and regions are epicenters for high sales and you have been asked to present the following results.\n",
    "\n",
    "**(6a)** Report 2020 Sales by state - Present results tabularly \n",
    "\n",
    "**(6b)** In Tableau create a Map visualization of total sales(2018 - 2020) by Region [Northeast, West, Midwest, South]."
   ]
  },
  {
   "cell_type": "code",
   "execution_count": 27,
   "metadata": {
    "scrolled": true
   },
   "outputs": [],
   "source": [
    "FY2020 = store[store.transactionDate.between('2020-01-01', '2020-12-31')]"
   ]
  },
  {
   "cell_type": "code",
   "execution_count": 28,
   "metadata": {},
   "outputs": [
    {
     "data": {
      "text/html": [
       "<div>\n",
       "<style scoped>\n",
       "    .dataframe tbody tr th:only-of-type {\n",
       "        vertical-align: middle;\n",
       "    }\n",
       "\n",
       "    .dataframe tbody tr th {\n",
       "        vertical-align: top;\n",
       "    }\n",
       "\n",
       "    .dataframe thead th {\n",
       "        text-align: right;\n",
       "    }\n",
       "</style>\n",
       "<table border=\"1\" class=\"dataframe\">\n",
       "  <thead>\n",
       "    <tr style=\"text-align: right;\">\n",
       "      <th></th>\n",
       "      <th>quantity</th>\n",
       "      <th>prices</th>\n",
       "      <th>cost</th>\n",
       "    </tr>\n",
       "    <tr>\n",
       "      <th>state</th>\n",
       "      <th></th>\n",
       "      <th></th>\n",
       "      <th></th>\n",
       "    </tr>\n",
       "  </thead>\n",
       "  <tbody>\n",
       "    <tr>\n",
       "      <th>Texas</th>\n",
       "      <td>13273</td>\n",
       "      <td>805415.02</td>\n",
       "      <td>1238215.58</td>\n",
       "    </tr>\n",
       "    <tr>\n",
       "      <th>California</th>\n",
       "      <td>12905</td>\n",
       "      <td>780505.85</td>\n",
       "      <td>1219721.54</td>\n",
       "    </tr>\n",
       "    <tr>\n",
       "      <th>Florida</th>\n",
       "      <td>11929</td>\n",
       "      <td>734357.36</td>\n",
       "      <td>1143359.72</td>\n",
       "    </tr>\n",
       "    <tr>\n",
       "      <th>New York</th>\n",
       "      <td>11579</td>\n",
       "      <td>703725.58</td>\n",
       "      <td>1074477.72</td>\n",
       "    </tr>\n",
       "    <tr>\n",
       "      <th>Ohio</th>\n",
       "      <td>10556</td>\n",
       "      <td>648858.71</td>\n",
       "      <td>1021461.58</td>\n",
       "    </tr>\n",
       "    <tr>\n",
       "      <th>Virginia</th>\n",
       "      <td>10457</td>\n",
       "      <td>656489.34</td>\n",
       "      <td>1009027.82</td>\n",
       "    </tr>\n",
       "    <tr>\n",
       "      <th>Georgia</th>\n",
       "      <td>10434</td>\n",
       "      <td>633150.60</td>\n",
       "      <td>988708.06</td>\n",
       "    </tr>\n",
       "    <tr>\n",
       "      <th>Oklahoma</th>\n",
       "      <td>10425</td>\n",
       "      <td>634248.40</td>\n",
       "      <td>996220.92</td>\n",
       "    </tr>\n",
       "    <tr>\n",
       "      <th>Washington</th>\n",
       "      <td>10396</td>\n",
       "      <td>639168.33</td>\n",
       "      <td>994863.51</td>\n",
       "    </tr>\n",
       "    <tr>\n",
       "      <th>Alabama</th>\n",
       "      <td>10396</td>\n",
       "      <td>630779.97</td>\n",
       "      <td>974686.32</td>\n",
       "    </tr>\n",
       "  </tbody>\n",
       "</table>\n",
       "</div>"
      ],
      "text/plain": [
       "            quantity     prices        cost\n",
       "state                                      \n",
       "Texas          13273  805415.02  1238215.58\n",
       "California     12905  780505.85  1219721.54\n",
       "Florida        11929  734357.36  1143359.72\n",
       "New York       11579  703725.58  1074477.72\n",
       "Ohio           10556  648858.71  1021461.58\n",
       "Virginia       10457  656489.34  1009027.82\n",
       "Georgia        10434  633150.60   988708.06\n",
       "Oklahoma       10425  634248.40   996220.92\n",
       "Washington     10396  639168.33   994863.51\n",
       "Alabama        10396  630779.97   974686.32"
      ]
     },
     "execution_count": 28,
     "metadata": {},
     "output_type": "execute_result"
    }
   ],
   "source": [
    "state_most_shoe_sales_2020 = FY2020.groupby(by='state').sum().sort_values('quantity', ascending=False)[:10]\n",
    "state_most_shoe_sales_2020"
   ]
  },
  {
   "cell_type": "code",
   "execution_count": 29,
   "metadata": {},
   "outputs": [
    {
     "data": {
      "text/html": [
       "<div>\n",
       "<style scoped>\n",
       "    .dataframe tbody tr th:only-of-type {\n",
       "        vertical-align: middle;\n",
       "    }\n",
       "\n",
       "    .dataframe tbody tr th {\n",
       "        vertical-align: top;\n",
       "    }\n",
       "\n",
       "    .dataframe thead th {\n",
       "        text-align: right;\n",
       "    }\n",
       "</style>\n",
       "<table border=\"1\" class=\"dataframe\">\n",
       "  <thead>\n",
       "    <tr style=\"text-align: right;\">\n",
       "      <th></th>\n",
       "      <th>quantity</th>\n",
       "      <th>prices</th>\n",
       "      <th>cost</th>\n",
       "    </tr>\n",
       "    <tr>\n",
       "      <th>state</th>\n",
       "      <th></th>\n",
       "      <th></th>\n",
       "      <th></th>\n",
       "    </tr>\n",
       "  </thead>\n",
       "  <tbody>\n",
       "    <tr>\n",
       "      <th>District of Columbia</th>\n",
       "      <td>948</td>\n",
       "      <td>57783.26</td>\n",
       "      <td>89926.21</td>\n",
       "    </tr>\n",
       "    <tr>\n",
       "      <th>Hawaii</th>\n",
       "      <td>9349</td>\n",
       "      <td>583556.57</td>\n",
       "      <td>887193.65</td>\n",
       "    </tr>\n",
       "    <tr>\n",
       "      <th>Maine</th>\n",
       "      <td>9377</td>\n",
       "      <td>577054.13</td>\n",
       "      <td>881449.26</td>\n",
       "    </tr>\n",
       "    <tr>\n",
       "      <th>Alaska</th>\n",
       "      <td>9425</td>\n",
       "      <td>583483.07</td>\n",
       "      <td>896748.81</td>\n",
       "    </tr>\n",
       "    <tr>\n",
       "      <th>North Dakota</th>\n",
       "      <td>9430</td>\n",
       "      <td>553603.59</td>\n",
       "      <td>850056.22</td>\n",
       "    </tr>\n",
       "  </tbody>\n",
       "</table>\n",
       "</div>"
      ],
      "text/plain": [
       "                      quantity     prices       cost\n",
       "state                                               \n",
       "District of Columbia       948   57783.26   89926.21\n",
       "Hawaii                    9349  583556.57  887193.65\n",
       "Maine                     9377  577054.13  881449.26\n",
       "Alaska                    9425  583483.07  896748.81\n",
       "North Dakota              9430  553603.59  850056.22"
      ]
     },
     "execution_count": 29,
     "metadata": {},
     "output_type": "execute_result"
    }
   ],
   "source": [
    "state_least_shoe_sales_2020 = FY2020.groupby(by='state').sum().sort_values('quantity', ascending=True)[:5]\n",
    "state_least_shoe_sales_2020"
   ]
  },
  {
   "cell_type": "code",
   "execution_count": 30,
   "metadata": {},
   "outputs": [
    {
     "data": {
      "image/png": "[encoded data removed]",
      "text/plain": [
       "<Figure size 864x432 with 1 Axes>"
      ]
     },
     "metadata": {
      "needs_background": "light"
     },
     "output_type": "display_data"
    }
   ],
   "source": [
    "ax = state_most_shoe_sales_2020['quantity'].plot(kind='bar', figsize=(12,6), rot=0)\n",
    "ax.set_title('States with Most Shoe Sales', size=20)\n",
    "ax.set_xlabel('State', size=14)\n",
    "ax.set_ylabel('Number of Sales', size=14);"
   ]
  },
  {
   "cell_type": "code",
   "execution_count": 31,
   "metadata": {},
   "outputs": [
    {
     "data": {
      "image/png": "[encoded data removed]",
      "text/plain": [
       "<Figure size 864x432 with 1 Axes>"
      ]
     },
     "metadata": {
      "needs_background": "light"
     },
     "output_type": "display_data"
    }
   ],
   "source": [
    "ax = state_least_shoe_sales_2020['quantity'].plot(kind='bar', figsize=(12,6), rot=0)\n",
    "ax.set_title('States with Least Shoe Sales', size=20)\n",
    "ax.set_xlabel('State', size=14)\n",
    "ax.set_ylabel('Number of Sales', size=14);"
   ]
  },
  {
   "attachments": {
    "Capstone%20Project_Regional%20Data.png": {
     "image/png": "[encoded data removed]"
    }
   },
   "cell_type": "markdown",
   "metadata": {},
   "source": [
    "![Capstone%20Project_Regional%20Data.png](attachment:Capstone%20Project_Regional%20Data.png)"
   ]
  },
  {
   "attachments": {
    "Capstone%20Project_Regional%20Data_RE-RE-REVISED%201.1.2023.png": {
     "image/png": "[encoded data removed]"
    }
   },
   "cell_type": "markdown",
   "metadata": {},
   "source": [
    "![Capstone%20Project_Regional%20Data_RE-RE-REVISED%201.1.2023.png](attachment:Capstone%20Project_Regional%20Data_RE-RE-REVISED%201.1.2023.png)"
   ]
  },
  {
   "cell_type": "markdown",
   "metadata": {},
   "source": [
    "## Question 7\n",
    "\n",
    "Use any type of plot to show the distribution of prices for the following shoe colors ('metallic', 'bronze', 'animal print', 'yellow')"
   ]
  },
  {
   "cell_type": "code",
   "execution_count": 32,
   "metadata": {},
   "outputs": [
    {
     "data": {
      "image/png": "[encoded data removed]",
      "text/plain": [
       "<Figure size 432x288 with 1 Axes>"
      ]
     },
     "metadata": {
      "needs_background": "light"
     },
     "output_type": "display_data"
    }
   ],
   "source": [
    "colors = store[store['color'].isin(['metallic', 'bronze', 'animal print', 'yellow'])]\n",
    "storecolorchart = colors.boxplot('prices', by='color', rot=0, showfliers=False, grid=False)\n",
    "\n",
    "storecolorchart.set_title('Boxplot of Prices by Color', size=16)\n",
    "plt.suptitle('')\n",
    "\n",
    "storecolorchart.set_xlabel('Color', size=12)\n",
    "storecolorchart.set_ylabel('Prices ($)', size=12);"
   ]
  },
  {
   "cell_type": "code",
   "execution_count": 33,
   "metadata": {},
   "outputs": [
    {
     "data": {
      "text/plain": [
       "<seaborn.axisgrid.FacetGrid at 0x2478c1386d0>"
      ]
     },
     "execution_count": 33,
     "metadata": {},
     "output_type": "execute_result"
    },
    {
     "data": {
      "image/png": "[encoded data removed]",
      "text/plain": [
       "<Figure size 1440x360 with 4 Axes>"
      ]
     },
     "metadata": {
      "needs_background": "light"
     },
     "output_type": "display_data"
    }
   ],
   "source": [
    "sns.displot(x='prices', data=store[store.color.isin(['metallic', 'bronze', 'animal print', 'yellow'])], col='color')"
   ]
  },
  {
   "cell_type": "markdown",
   "metadata": {},
   "source": [
    "## Question 8\n",
    "\n",
    "The Shunique marketing team is desperate to find the next big shoe hit.  They have asked for your help. \n",
    "\n",
    "**(8a)** Select a unique combination of shoe attributes then create a summary report with various statistics (ie Average sales price, city with most sales, quarter with most shoes sold, Customer name with highest purchase, etc)[it is your choice].  If the shoe combo doesn't exist in the dataset then choose another combination.\n",
    "\n",
    "Next quarter they are going to release an animal print, leather, strappy, basketball shoe.  "
   ]
  },
  {
   "cell_type": "code",
   "execution_count": 34,
   "metadata": {},
   "outputs": [
    {
     "data": {
      "text/html": [
       "<div>\n",
       "<style scoped>\n",
       "    .dataframe tbody tr th:only-of-type {\n",
       "        vertical-align: middle;\n",
       "    }\n",
       "\n",
       "    .dataframe tbody tr th {\n",
       "        vertical-align: top;\n",
       "    }\n",
       "\n",
       "    .dataframe thead th {\n",
       "        text-align: right;\n",
       "    }\n",
       "</style>\n",
       "<table border=\"1\" class=\"dataframe\">\n",
       "  <thead>\n",
       "    <tr style=\"text-align: right;\">\n",
       "      <th></th>\n",
       "      <th>first_name</th>\n",
       "      <th>last_name</th>\n",
       "      <th>email</th>\n",
       "      <th>city</th>\n",
       "      <th>address</th>\n",
       "      <th>state</th>\n",
       "      <th>transactionDate</th>\n",
       "      <th>transactionID</th>\n",
       "      <th>time</th>\n",
       "      <th>quantity</th>\n",
       "      <th>name</th>\n",
       "      <th>color</th>\n",
       "      <th>materials</th>\n",
       "      <th>prices</th>\n",
       "      <th>feature</th>\n",
       "      <th>category</th>\n",
       "      <th>cost</th>\n",
       "      <th>Date</th>\n",
       "    </tr>\n",
       "  </thead>\n",
       "  <tbody>\n",
       "    <tr>\n",
       "      <th>149059</th>\n",
       "      <td>Abeu</td>\n",
       "      <td>Cocher</td>\n",
       "      <td>acocher9u@icq.com</td>\n",
       "      <td>Milwaukee</td>\n",
       "      <td>020 Bartelt Trail</td>\n",
       "      <td>Wisconsin</td>\n",
       "      <td>2019-07-25</td>\n",
       "      <td>47ec5b68-625a-4055-8a56-b754270333ce</td>\n",
       "      <td>7:53 PM</td>\n",
       "      <td>1</td>\n",
       "      <td>Women's Pink Paradox London Avery Wedge Sandal...</td>\n",
       "      <td>animal print</td>\n",
       "      <td>suede</td>\n",
       "      <td>59.96</td>\n",
       "      <td>diabetic approved</td>\n",
       "      <td>basketball</td>\n",
       "      <td>59.96</td>\n",
       "      <td>2019-07-25</td>\n",
       "    </tr>\n",
       "    <tr>\n",
       "      <th>149060</th>\n",
       "      <td>Walsh</td>\n",
       "      <td>Mathias</td>\n",
       "      <td>wmathiasmr@boston.com</td>\n",
       "      <td>Honolulu</td>\n",
       "      <td>005 Cherokee Way</td>\n",
       "      <td>Hawaii</td>\n",
       "      <td>2019-06-19</td>\n",
       "      <td>83e52762-ed9a-49ed-8f48-bfc9502f332e</td>\n",
       "      <td>6:08 PM</td>\n",
       "      <td>1</td>\n",
       "      <td>Women's Pink Paradox London Avery Wedge Sandal...</td>\n",
       "      <td>animal print</td>\n",
       "      <td>suede</td>\n",
       "      <td>59.96</td>\n",
       "      <td>diabetic approved</td>\n",
       "      <td>basketball</td>\n",
       "      <td>59.96</td>\n",
       "      <td>2019-06-19</td>\n",
       "    </tr>\n",
       "    <tr>\n",
       "      <th>149061</th>\n",
       "      <td>Emmey</td>\n",
       "      <td>Wennington</td>\n",
       "      <td>ewenningtonlb@businesswire.com</td>\n",
       "      <td>Houston</td>\n",
       "      <td>282 Mayer Road</td>\n",
       "      <td>Texas</td>\n",
       "      <td>2020-05-25</td>\n",
       "      <td>afbc5d78-de44-4212-aa8b-6b873886f6b7</td>\n",
       "      <td>8:51 AM</td>\n",
       "      <td>2</td>\n",
       "      <td>Women's Pink Paradox London Avery Wedge Sandal...</td>\n",
       "      <td>animal print</td>\n",
       "      <td>suede</td>\n",
       "      <td>59.96</td>\n",
       "      <td>diabetic approved</td>\n",
       "      <td>basketball</td>\n",
       "      <td>119.92</td>\n",
       "      <td>2020-05-25</td>\n",
       "    </tr>\n",
       "    <tr>\n",
       "      <th>149062</th>\n",
       "      <td>Jed</td>\n",
       "      <td>Norcutt</td>\n",
       "      <td>jnorcutt9s@admin.ch</td>\n",
       "      <td>Staten Island</td>\n",
       "      <td>6648 Schlimgen Trail</td>\n",
       "      <td>New York</td>\n",
       "      <td>2019-11-22</td>\n",
       "      <td>301b8f7d-85e2-4950-85e0-22f43bf9b19e</td>\n",
       "      <td>12:47 PM</td>\n",
       "      <td>1</td>\n",
       "      <td>Women's Pink Paradox London Avery Wedge Sandal...</td>\n",
       "      <td>animal print</td>\n",
       "      <td>suede</td>\n",
       "      <td>59.96</td>\n",
       "      <td>diabetic approved</td>\n",
       "      <td>basketball</td>\n",
       "      <td>59.96</td>\n",
       "      <td>2019-11-22</td>\n",
       "    </tr>\n",
       "    <tr>\n",
       "      <th>149063</th>\n",
       "      <td>Melesa</td>\n",
       "      <td>Doxey</td>\n",
       "      <td>mdoxey85@boston.com</td>\n",
       "      <td>Nashville</td>\n",
       "      <td>23 Straubel Park</td>\n",
       "      <td>Tennessee</td>\n",
       "      <td>2020-01-17</td>\n",
       "      <td>e2bff041-5a0a-4612-b642-c2dd5552eb51</td>\n",
       "      <td>1:39 AM</td>\n",
       "      <td>1</td>\n",
       "      <td>Women's Pink Paradox London Avery Wedge Sandal...</td>\n",
       "      <td>animal print</td>\n",
       "      <td>suede</td>\n",
       "      <td>59.96</td>\n",
       "      <td>diabetic approved</td>\n",
       "      <td>basketball</td>\n",
       "      <td>59.96</td>\n",
       "      <td>2020-01-17</td>\n",
       "    </tr>\n",
       "  </tbody>\n",
       "</table>\n",
       "</div>"
      ],
      "text/plain": [
       "       first_name   last_name                           email           city  \\\n",
       "149059       Abeu      Cocher               acocher9u@icq.com      Milwaukee   \n",
       "149060      Walsh     Mathias           wmathiasmr@boston.com       Honolulu   \n",
       "149061      Emmey  Wennington  ewenningtonlb@businesswire.com        Houston   \n",
       "149062        Jed     Norcutt             jnorcutt9s@admin.ch  Staten Island   \n",
       "149063     Melesa       Doxey             mdoxey85@boston.com      Nashville   \n",
       "\n",
       "                     address      state transactionDate  \\\n",
       "149059     020 Bartelt Trail  Wisconsin      2019-07-25   \n",
       "149060      005 Cherokee Way     Hawaii      2019-06-19   \n",
       "149061        282 Mayer Road      Texas      2020-05-25   \n",
       "149062  6648 Schlimgen Trail   New York      2019-11-22   \n",
       "149063      23 Straubel Park  Tennessee      2020-01-17   \n",
       "\n",
       "                               transactionID      time  quantity  \\\n",
       "149059  47ec5b68-625a-4055-8a56-b754270333ce   7:53 PM         1   \n",
       "149060  83e52762-ed9a-49ed-8f48-bfc9502f332e   6:08 PM         1   \n",
       "149061  afbc5d78-de44-4212-aa8b-6b873886f6b7   8:51 AM         2   \n",
       "149062  301b8f7d-85e2-4950-85e0-22f43bf9b19e  12:47 PM         1   \n",
       "149063  e2bff041-5a0a-4612-b642-c2dd5552eb51   1:39 AM         1   \n",
       "\n",
       "                                                     name         color  \\\n",
       "149059  Women's Pink Paradox London Avery Wedge Sandal...  animal print   \n",
       "149060  Women's Pink Paradox London Avery Wedge Sandal...  animal print   \n",
       "149061  Women's Pink Paradox London Avery Wedge Sandal...  animal print   \n",
       "149062  Women's Pink Paradox London Avery Wedge Sandal...  animal print   \n",
       "149063  Women's Pink Paradox London Avery Wedge Sandal...  animal print   \n",
       "\n",
       "       materials  prices            feature    category    cost        Date  \n",
       "149059     suede   59.96  diabetic approved  basketball   59.96  2019-07-25  \n",
       "149060     suede   59.96  diabetic approved  basketball   59.96  2019-06-19  \n",
       "149061     suede   59.96  diabetic approved  basketball  119.92  2020-05-25  \n",
       "149062     suede   59.96  diabetic approved  basketball   59.96  2019-11-22  \n",
       "149063     suede   59.96  diabetic approved  basketball   59.96  2020-01-17  "
      ]
     },
     "execution_count": 34,
     "metadata": {},
     "output_type": "execute_result"
    }
   ],
   "source": [
    "unique_attributes = store[(store['color'] == 'animal print') & (store['category'] == 'basketball')]\n",
    "unique_attributes.head()"
   ]
  },
  {
   "cell_type": "code",
   "execution_count": 35,
   "metadata": {},
   "outputs": [
    {
     "data": {
      "text/html": [
       "<div>\n",
       "<style scoped>\n",
       "    .dataframe tbody tr th:only-of-type {\n",
       "        vertical-align: middle;\n",
       "    }\n",
       "\n",
       "    .dataframe tbody tr th {\n",
       "        vertical-align: top;\n",
       "    }\n",
       "\n",
       "    .dataframe thead th {\n",
       "        text-align: right;\n",
       "    }\n",
       "</style>\n",
       "<table border=\"1\" class=\"dataframe\">\n",
       "  <thead>\n",
       "    <tr style=\"text-align: right;\">\n",
       "      <th></th>\n",
       "      <th>first_name</th>\n",
       "      <th>last_name</th>\n",
       "      <th>email</th>\n",
       "      <th>city</th>\n",
       "      <th>address</th>\n",
       "      <th>state</th>\n",
       "      <th>transactionDate</th>\n",
       "      <th>transactionID</th>\n",
       "      <th>time</th>\n",
       "      <th>quantity</th>\n",
       "      <th>name</th>\n",
       "      <th>color</th>\n",
       "      <th>materials</th>\n",
       "      <th>prices</th>\n",
       "      <th>feature</th>\n",
       "      <th>category</th>\n",
       "      <th>cost</th>\n",
       "      <th>Date</th>\n",
       "    </tr>\n",
       "  </thead>\n",
       "  <tbody>\n",
       "    <tr>\n",
       "      <th>3953</th>\n",
       "      <td>Georgi</td>\n",
       "      <td>Southworth</td>\n",
       "      <td>gsouthworthy@oakley.com</td>\n",
       "      <td>Baton Rouge</td>\n",
       "      <td>891 Ronald Regan Avenue</td>\n",
       "      <td>Louisiana</td>\n",
       "      <td>2019-11-19</td>\n",
       "      <td>ffc71eb4-a11b-4dd0-8e98-a79e20596a8c</td>\n",
       "      <td>9:15 PM</td>\n",
       "      <td>1</td>\n",
       "      <td>Native Women's Verona Fashion Sneaker</td>\n",
       "      <td>black</td>\n",
       "      <td>polyester</td>\n",
       "      <td>40.0</td>\n",
       "      <td>vegan</td>\n",
       "      <td>wedges</td>\n",
       "      <td>40.0</td>\n",
       "      <td>2019-11-19</td>\n",
       "    </tr>\n",
       "    <tr>\n",
       "      <th>3955</th>\n",
       "      <td>Catherine</td>\n",
       "      <td>Hunnable</td>\n",
       "      <td>chunnable7w@cmu.edu</td>\n",
       "      <td>Washington</td>\n",
       "      <td>4951 Bashford Road</td>\n",
       "      <td>District of Columbia</td>\n",
       "      <td>2019-10-01</td>\n",
       "      <td>4ff2d714-7fcf-4058-b1de-9559d0633e23</td>\n",
       "      <td>12:54 AM</td>\n",
       "      <td>1</td>\n",
       "      <td>Native Women's Verona Fashion Sneaker</td>\n",
       "      <td>black</td>\n",
       "      <td>polyester</td>\n",
       "      <td>40.0</td>\n",
       "      <td>vegan</td>\n",
       "      <td>wedges</td>\n",
       "      <td>40.0</td>\n",
       "      <td>2019-10-01</td>\n",
       "    </tr>\n",
       "    <tr>\n",
       "      <th>3957</th>\n",
       "      <td>Casi</td>\n",
       "      <td>Cahen</td>\n",
       "      <td>ccahenrr@github.com</td>\n",
       "      <td>Washington</td>\n",
       "      <td>3393 Riverside Way</td>\n",
       "      <td>District of Columbia</td>\n",
       "      <td>2020-05-03</td>\n",
       "      <td>60001b69-fa1d-40bb-b549-1f430c1ecbca</td>\n",
       "      <td>8:06 AM</td>\n",
       "      <td>1</td>\n",
       "      <td>Native Women's Verona Fashion Sneaker</td>\n",
       "      <td>black</td>\n",
       "      <td>polyester</td>\n",
       "      <td>40.0</td>\n",
       "      <td>vegan</td>\n",
       "      <td>wedges</td>\n",
       "      <td>40.0</td>\n",
       "      <td>2020-05-03</td>\n",
       "    </tr>\n",
       "    <tr>\n",
       "      <th>3959</th>\n",
       "      <td>Felipa</td>\n",
       "      <td>Fudge</td>\n",
       "      <td>ffudge5o@fastcompany.com</td>\n",
       "      <td>Naples</td>\n",
       "      <td>82 Stuart Trail</td>\n",
       "      <td>Florida</td>\n",
       "      <td>2019-10-20</td>\n",
       "      <td>8de23e7d-84d9-4d9e-a217-e46831176e82</td>\n",
       "      <td>4:59 PM</td>\n",
       "      <td>3</td>\n",
       "      <td>Native Women's Verona Fashion Sneaker</td>\n",
       "      <td>black</td>\n",
       "      <td>polyester</td>\n",
       "      <td>40.0</td>\n",
       "      <td>vegan</td>\n",
       "      <td>wedges</td>\n",
       "      <td>120.0</td>\n",
       "      <td>2019-10-20</td>\n",
       "    </tr>\n",
       "    <tr>\n",
       "      <th>3961</th>\n",
       "      <td>Pietrek</td>\n",
       "      <td>Lickorish</td>\n",
       "      <td>plickorishiu@soup.io</td>\n",
       "      <td>El Paso</td>\n",
       "      <td>53100 Bunting Trail</td>\n",
       "      <td>Texas</td>\n",
       "      <td>2019-05-30</td>\n",
       "      <td>b02180f0-4c0d-49a2-ba41-51b62cb91569</td>\n",
       "      <td>6:14 PM</td>\n",
       "      <td>1</td>\n",
       "      <td>Native Women's Verona Fashion Sneaker</td>\n",
       "      <td>black</td>\n",
       "      <td>polyester</td>\n",
       "      <td>40.0</td>\n",
       "      <td>vegan</td>\n",
       "      <td>wedges</td>\n",
       "      <td>40.0</td>\n",
       "      <td>2019-05-30</td>\n",
       "    </tr>\n",
       "  </tbody>\n",
       "</table>\n",
       "</div>"
      ],
      "text/plain": [
       "     first_name   last_name                     email         city  \\\n",
       "3953     Georgi  Southworth   gsouthworthy@oakley.com  Baton Rouge   \n",
       "3955  Catherine    Hunnable       chunnable7w@cmu.edu   Washington   \n",
       "3957       Casi       Cahen       ccahenrr@github.com   Washington   \n",
       "3959     Felipa       Fudge  ffudge5o@fastcompany.com       Naples   \n",
       "3961    Pietrek   Lickorish      plickorishiu@soup.io      El Paso   \n",
       "\n",
       "                      address                 state transactionDate  \\\n",
       "3953  891 Ronald Regan Avenue             Louisiana      2019-11-19   \n",
       "3955       4951 Bashford Road  District of Columbia      2019-10-01   \n",
       "3957       3393 Riverside Way  District of Columbia      2020-05-03   \n",
       "3959          82 Stuart Trail               Florida      2019-10-20   \n",
       "3961      53100 Bunting Trail                 Texas      2019-05-30   \n",
       "\n",
       "                             transactionID      time  quantity  \\\n",
       "3953  ffc71eb4-a11b-4dd0-8e98-a79e20596a8c   9:15 PM         1   \n",
       "3955  4ff2d714-7fcf-4058-b1de-9559d0633e23  12:54 AM         1   \n",
       "3957  60001b69-fa1d-40bb-b549-1f430c1ecbca   8:06 AM         1   \n",
       "3959  8de23e7d-84d9-4d9e-a217-e46831176e82   4:59 PM         3   \n",
       "3961  b02180f0-4c0d-49a2-ba41-51b62cb91569   6:14 PM         1   \n",
       "\n",
       "                                       name  color  materials  prices feature  \\\n",
       "3953  Native Women's Verona Fashion Sneaker  black  polyester    40.0   vegan   \n",
       "3955  Native Women's Verona Fashion Sneaker  black  polyester    40.0   vegan   \n",
       "3957  Native Women's Verona Fashion Sneaker  black  polyester    40.0   vegan   \n",
       "3959  Native Women's Verona Fashion Sneaker  black  polyester    40.0   vegan   \n",
       "3961  Native Women's Verona Fashion Sneaker  black  polyester    40.0   vegan   \n",
       "\n",
       "     category   cost        Date  \n",
       "3953   wedges   40.0  2019-11-19  \n",
       "3955   wedges   40.0  2019-10-01  \n",
       "3957   wedges   40.0  2020-05-03  \n",
       "3959   wedges  120.0  2019-10-20  \n",
       "3961   wedges   40.0  2019-05-30  "
      ]
     },
     "execution_count": 35,
     "metadata": {},
     "output_type": "execute_result"
    }
   ],
   "source": [
    "best_selling_attributes = store[(store['color'] == 'black') & (store['category'] == 'wedges')]\n",
    "best_selling_attributes.head()"
   ]
  },
  {
   "cell_type": "code",
   "execution_count": 36,
   "metadata": {},
   "outputs": [
    {
     "data": {
      "text/plain": [
       "136.20487777777862"
      ]
     },
     "execution_count": 36,
     "metadata": {},
     "output_type": "execute_result"
    }
   ],
   "source": [
    "unique_attributes.cost.mean()"
   ]
  },
  {
   "cell_type": "code",
   "execution_count": 37,
   "metadata": {},
   "outputs": [
    {
     "data": {
      "text/plain": [
       "171.66380926403122"
      ]
     },
     "execution_count": 37,
     "metadata": {},
     "output_type": "execute_result"
    }
   ],
   "source": [
    "best_selling_attributes.cost.mean()"
   ]
  },
  {
   "cell_type": "code",
   "execution_count": 38,
   "metadata": {},
   "outputs": [
    {
     "data": {
      "text/plain": [
       "122584.39000000001"
      ]
     },
     "execution_count": 38,
     "metadata": {},
     "output_type": "execute_result"
    }
   ],
   "source": [
    "unique_attributes.cost.sum()"
   ]
  },
  {
   "cell_type": "code",
   "execution_count": 39,
   "metadata": {},
   "outputs": [
    {
     "data": {
      "text/plain": [
       "8809271.7"
      ]
     },
     "execution_count": 39,
     "metadata": {},
     "output_type": "execute_result"
    }
   ],
   "source": [
    "best_selling_attributes.cost.sum()"
   ]
  },
  {
   "cell_type": "code",
   "execution_count": 40,
   "metadata": {},
   "outputs": [
    {
     "data": {
      "text/plain": [
       "151.03907511998082"
      ]
     },
     "execution_count": 40,
     "metadata": {},
     "output_type": "execute_result"
    }
   ],
   "source": [
    "store.cost.mean()"
   ]
  },
  {
   "cell_type": "code",
   "execution_count": 41,
   "metadata": {
    "scrolled": true
   },
   "outputs": [
    {
     "data": {
      "text/plain": [
       "1.568888888888889"
      ]
     },
     "execution_count": 41,
     "metadata": {},
     "output_type": "execute_result"
    }
   ],
   "source": [
    "unique_attributes.quantity.mean()"
   ]
  },
  {
   "cell_type": "code",
   "execution_count": 42,
   "metadata": {},
   "outputs": [
    {
     "data": {
      "text/plain": [
       "1.5983981916324026"
      ]
     },
     "execution_count": 42,
     "metadata": {},
     "output_type": "execute_result"
    }
   ],
   "source": [
    "best_selling_attributes.quantity.mean()"
   ]
  },
  {
   "cell_type": "code",
   "execution_count": 43,
   "metadata": {},
   "outputs": [
    {
     "data": {
      "text/plain": [
       "(900, 18)"
      ]
     },
     "execution_count": 43,
     "metadata": {},
     "output_type": "execute_result"
    }
   ],
   "source": [
    "unique_attributes.shape"
   ]
  },
  {
   "cell_type": "code",
   "execution_count": 44,
   "metadata": {
    "scrolled": false
   },
   "outputs": [
    {
     "data": {
      "text/html": [
       "<div>\n",
       "<style scoped>\n",
       "    .dataframe tbody tr th:only-of-type {\n",
       "        vertical-align: middle;\n",
       "    }\n",
       "\n",
       "    .dataframe tbody tr th {\n",
       "        vertical-align: top;\n",
       "    }\n",
       "\n",
       "    .dataframe thead th {\n",
       "        text-align: right;\n",
       "    }\n",
       "</style>\n",
       "<table border=\"1\" class=\"dataframe\">\n",
       "  <thead>\n",
       "    <tr style=\"text-align: right;\">\n",
       "      <th></th>\n",
       "      <th>quantity</th>\n",
       "      <th>prices</th>\n",
       "      <th>cost</th>\n",
       "    </tr>\n",
       "    <tr>\n",
       "      <th>city</th>\n",
       "      <th></th>\n",
       "      <th></th>\n",
       "      <th></th>\n",
       "    </tr>\n",
       "  </thead>\n",
       "  <tbody>\n",
       "    <tr>\n",
       "      <th>Kansas City</th>\n",
       "      <td>7</td>\n",
       "      <td>156.32</td>\n",
       "      <td>521.32</td>\n",
       "    </tr>\n",
       "  </tbody>\n",
       "</table>\n",
       "</div>"
      ],
      "text/plain": [
       "             quantity  prices    cost\n",
       "city                                 \n",
       "Kansas City         7  156.32  521.32"
      ]
     },
     "execution_count": 44,
     "metadata": {},
     "output_type": "execute_result"
    }
   ],
   "source": [
    "unique_attributes.groupby(by='city').sum().sort_values('quantity', ascending=False)[:1]"
   ]
  },
  {
   "cell_type": "code",
   "execution_count": 45,
   "metadata": {
    "scrolled": false
   },
   "outputs": [
    {
     "data": {
      "text/html": [
       "<div>\n",
       "<style scoped>\n",
       "    .dataframe tbody tr th:only-of-type {\n",
       "        vertical-align: middle;\n",
       "    }\n",
       "\n",
       "    .dataframe tbody tr th {\n",
       "        vertical-align: top;\n",
       "    }\n",
       "\n",
       "    .dataframe thead th {\n",
       "        text-align: right;\n",
       "    }\n",
       "</style>\n",
       "<table border=\"1\" class=\"dataframe\">\n",
       "  <thead>\n",
       "    <tr style=\"text-align: right;\">\n",
       "      <th></th>\n",
       "      <th>quantity</th>\n",
       "      <th>prices</th>\n",
       "      <th>cost</th>\n",
       "    </tr>\n",
       "    <tr>\n",
       "      <th>state</th>\n",
       "      <th></th>\n",
       "      <th></th>\n",
       "      <th></th>\n",
       "    </tr>\n",
       "  </thead>\n",
       "  <tbody>\n",
       "    <tr>\n",
       "      <th>Massachusetts</th>\n",
       "      <td>44</td>\n",
       "      <td>1910.73</td>\n",
       "      <td>3829.46</td>\n",
       "    </tr>\n",
       "  </tbody>\n",
       "</table>\n",
       "</div>"
      ],
      "text/plain": [
       "               quantity   prices     cost\n",
       "state                                    \n",
       "Massachusetts        44  1910.73  3829.46"
      ]
     },
     "execution_count": 45,
     "metadata": {},
     "output_type": "execute_result"
    }
   ],
   "source": [
    "unique_attributes.groupby(by='state').sum().sort_values('quantity', ascending=False)[:1]"
   ]
  },
  {
   "cell_type": "code",
   "execution_count": 46,
   "metadata": {},
   "outputs": [
    {
     "data": {
      "text/html": [
       "<div>\n",
       "<style scoped>\n",
       "    .dataframe tbody tr th:only-of-type {\n",
       "        vertical-align: middle;\n",
       "    }\n",
       "\n",
       "    .dataframe tbody tr th {\n",
       "        vertical-align: top;\n",
       "    }\n",
       "\n",
       "    .dataframe thead th {\n",
       "        text-align: right;\n",
       "    }\n",
       "</style>\n",
       "<table border=\"1\" class=\"dataframe\">\n",
       "  <thead>\n",
       "    <tr style=\"text-align: right;\">\n",
       "      <th></th>\n",
       "      <th>quantity</th>\n",
       "      <th>prices</th>\n",
       "      <th>cost</th>\n",
       "    </tr>\n",
       "    <tr>\n",
       "      <th>feature</th>\n",
       "      <th></th>\n",
       "      <th></th>\n",
       "      <th></th>\n",
       "    </tr>\n",
       "  </thead>\n",
       "  <tbody>\n",
       "    <tr>\n",
       "      <th>travel friendly</th>\n",
       "      <td>333</td>\n",
       "      <td>23788.64</td>\n",
       "      <td>37642.68</td>\n",
       "    </tr>\n",
       "  </tbody>\n",
       "</table>\n",
       "</div>"
      ],
      "text/plain": [
       "                 quantity    prices      cost\n",
       "feature                                      \n",
       "travel friendly       333  23788.64  37642.68"
      ]
     },
     "execution_count": 46,
     "metadata": {},
     "output_type": "execute_result"
    }
   ],
   "source": [
    "unique_attributes.groupby(by='feature').sum().sort_values('quantity', ascending=False)[:1]"
   ]
  },
  {
   "cell_type": "code",
   "execution_count": 47,
   "metadata": {},
   "outputs": [
    {
     "data": {
      "text/html": [
       "<div>\n",
       "<style scoped>\n",
       "    .dataframe tbody tr th:only-of-type {\n",
       "        vertical-align: middle;\n",
       "    }\n",
       "\n",
       "    .dataframe tbody tr th {\n",
       "        vertical-align: top;\n",
       "    }\n",
       "\n",
       "    .dataframe thead th {\n",
       "        text-align: right;\n",
       "    }\n",
       "</style>\n",
       "<table border=\"1\" class=\"dataframe\">\n",
       "  <thead>\n",
       "    <tr style=\"text-align: right;\">\n",
       "      <th></th>\n",
       "      <th>quantity</th>\n",
       "      <th>prices</th>\n",
       "      <th>cost</th>\n",
       "    </tr>\n",
       "    <tr>\n",
       "      <th>materials</th>\n",
       "      <th></th>\n",
       "      <th></th>\n",
       "      <th></th>\n",
       "    </tr>\n",
       "  </thead>\n",
       "  <tbody>\n",
       "    <tr>\n",
       "      <th>manmade</th>\n",
       "      <td>522</td>\n",
       "      <td>30047.55</td>\n",
       "      <td>47090.99</td>\n",
       "    </tr>\n",
       "  </tbody>\n",
       "</table>\n",
       "</div>"
      ],
      "text/plain": [
       "           quantity    prices      cost\n",
       "materials                              \n",
       "manmade         522  30047.55  47090.99"
      ]
     },
     "execution_count": 47,
     "metadata": {},
     "output_type": "execute_result"
    }
   ],
   "source": [
    "unique_attributes.groupby(by='materials').sum().sort_values('quantity', ascending=False)[:1]"
   ]
  },
  {
   "cell_type": "code",
   "execution_count": 48,
   "metadata": {
    "scrolled": true
   },
   "outputs": [
    {
     "data": {
      "image/png": "[encoded data removed]",
      "text/plain": [
       "<Figure size 432x288 with 1 Axes>"
      ]
     },
     "metadata": {
      "needs_background": "light"
     },
     "output_type": "display_data"
    }
   ],
   "source": [
    "animalprint_basketballshoes = unique_attributes.set_index('transactionDate').groupby(pd.Grouper(freq='Q'))['cost'].sum()\n",
    "ax = animalprint_basketballshoes.plot()\n",
    "ax.set_title('Quarterly Sales for Animal Print Basketball Shoes')\n",
    "ax.set_ylabel('Quarterly Sales ($)')\n",
    "ax.set_xlabel('Quarter')\n",
    "ax.yaxis.set_major_formatter(formatter);"
   ]
  },
  {
   "cell_type": "markdown",
   "metadata": {},
   "source": [
    "The market for animal print basketball shoes appears to be very small.  Average sales price is 87.04 (which is below the overall APV of 94.71). The city with the most sales of this kind of shoe is Kansas city (with 7 shoe sales of this type) and the state with the most sales of this kind of shoe is Massachussets. The shoe's sales appeared to be doing well and trending upward until mid-2020, when sales suddenly plummeted between the second quarter of 2020 (when the shoe made nearly 18,000 dollars in total sales) and the third quarter of 2020 (in which the shoe made only roughly 5,000 dollars in total sales). The highest-selling feature for this kind of shoe is \"travel-friendly,\" and the highest-selling material for this kind of shoe is \"man-made.\""
   ]
  },
  {
   "cell_type": "code",
   "execution_count": 49,
   "metadata": {
    "scrolled": true
   },
   "outputs": [
    {
     "data": {
      "text/html": [
       "<div>\n",
       "<style scoped>\n",
       "    .dataframe tbody tr th:only-of-type {\n",
       "        vertical-align: middle;\n",
       "    }\n",
       "\n",
       "    .dataframe tbody tr th {\n",
       "        vertical-align: top;\n",
       "    }\n",
       "\n",
       "    .dataframe thead th {\n",
       "        text-align: right;\n",
       "    }\n",
       "</style>\n",
       "<table border=\"1\" class=\"dataframe\">\n",
       "  <thead>\n",
       "    <tr style=\"text-align: right;\">\n",
       "      <th></th>\n",
       "      <th>quantity</th>\n",
       "      <th>prices</th>\n",
       "      <th>cost</th>\n",
       "    </tr>\n",
       "    <tr>\n",
       "      <th>color</th>\n",
       "      <th></th>\n",
       "      <th></th>\n",
       "      <th></th>\n",
       "    </tr>\n",
       "  </thead>\n",
       "  <tbody>\n",
       "    <tr>\n",
       "      <th>black</th>\n",
       "      <td>511686</td>\n",
       "      <td>30341322.98</td>\n",
       "      <td>48410535.70</td>\n",
       "    </tr>\n",
       "    <tr>\n",
       "      <th>white</th>\n",
       "      <td>151941</td>\n",
       "      <td>9531488.85</td>\n",
       "      <td>15237603.90</td>\n",
       "    </tr>\n",
       "    <tr>\n",
       "      <th>brown</th>\n",
       "      <td>149552</td>\n",
       "      <td>8329143.81</td>\n",
       "      <td>13263530.54</td>\n",
       "    </tr>\n",
       "    <tr>\n",
       "      <th>gray</th>\n",
       "      <td>120948</td>\n",
       "      <td>7549686.76</td>\n",
       "      <td>12004171.80</td>\n",
       "    </tr>\n",
       "    <tr>\n",
       "      <th>blue</th>\n",
       "      <td>106100</td>\n",
       "      <td>6366710.08</td>\n",
       "      <td>10138006.28</td>\n",
       "    </tr>\n",
       "  </tbody>\n",
       "</table>\n",
       "</div>"
      ],
      "text/plain": [
       "       quantity       prices         cost\n",
       "color                                    \n",
       "black    511686  30341322.98  48410535.70\n",
       "white    151941   9531488.85  15237603.90\n",
       "brown    149552   8329143.81  13263530.54\n",
       "gray     120948   7549686.76  12004171.80\n",
       "blue     106100   6366710.08  10138006.28"
      ]
     },
     "execution_count": 49,
     "metadata": {},
     "output_type": "execute_result"
    }
   ],
   "source": [
    "store.groupby(by='color').sum().sort_values('quantity', ascending=False)[:5]"
   ]
  },
  {
   "cell_type": "code",
   "execution_count": 50,
   "metadata": {},
   "outputs": [
    {
     "data": {
      "text/html": [
       "<div>\n",
       "<style scoped>\n",
       "    .dataframe tbody tr th:only-of-type {\n",
       "        vertical-align: middle;\n",
       "    }\n",
       "\n",
       "    .dataframe tbody tr th {\n",
       "        vertical-align: top;\n",
       "    }\n",
       "\n",
       "    .dataframe thead th {\n",
       "        text-align: right;\n",
       "    }\n",
       "</style>\n",
       "<table border=\"1\" class=\"dataframe\">\n",
       "  <thead>\n",
       "    <tr style=\"text-align: right;\">\n",
       "      <th></th>\n",
       "      <th>quantity</th>\n",
       "      <th>prices</th>\n",
       "      <th>cost</th>\n",
       "    </tr>\n",
       "    <tr>\n",
       "      <th>materials</th>\n",
       "      <th></th>\n",
       "      <th></th>\n",
       "      <th></th>\n",
       "    </tr>\n",
       "  </thead>\n",
       "  <tbody>\n",
       "    <tr>\n",
       "      <th>leather</th>\n",
       "      <td>803662</td>\n",
       "      <td>46601520.03</td>\n",
       "      <td>74362594.03</td>\n",
       "    </tr>\n",
       "    <tr>\n",
       "      <th>fabric</th>\n",
       "      <td>316092</td>\n",
       "      <td>18219946.56</td>\n",
       "      <td>28970470.26</td>\n",
       "    </tr>\n",
       "    <tr>\n",
       "      <th>manmade</th>\n",
       "      <td>268689</td>\n",
       "      <td>15811957.36</td>\n",
       "      <td>25239023.15</td>\n",
       "    </tr>\n",
       "    <tr>\n",
       "      <th>suede</th>\n",
       "      <td>187282</td>\n",
       "      <td>11560810.28</td>\n",
       "      <td>18486231.06</td>\n",
       "    </tr>\n",
       "    <tr>\n",
       "      <th>canvas</th>\n",
       "      <td>71884</td>\n",
       "      <td>4327693.28</td>\n",
       "      <td>6921757.57</td>\n",
       "    </tr>\n",
       "  </tbody>\n",
       "</table>\n",
       "</div>"
      ],
      "text/plain": [
       "           quantity       prices         cost\n",
       "materials                                    \n",
       "leather      803662  46601520.03  74362594.03\n",
       "fabric       316092  18219946.56  28970470.26\n",
       "manmade      268689  15811957.36  25239023.15\n",
       "suede        187282  11560810.28  18486231.06\n",
       "canvas        71884   4327693.28   6921757.57"
      ]
     },
     "execution_count": 50,
     "metadata": {},
     "output_type": "execute_result"
    }
   ],
   "source": [
    "store.groupby(by='materials').sum().sort_values('quantity', ascending=False)[:5]"
   ]
  },
  {
   "cell_type": "code",
   "execution_count": 51,
   "metadata": {},
   "outputs": [
    {
     "data": {
      "text/html": [
       "<div>\n",
       "<style scoped>\n",
       "    .dataframe tbody tr th:only-of-type {\n",
       "        vertical-align: middle;\n",
       "    }\n",
       "\n",
       "    .dataframe tbody tr th {\n",
       "        vertical-align: top;\n",
       "    }\n",
       "\n",
       "    .dataframe thead th {\n",
       "        text-align: right;\n",
       "    }\n",
       "</style>\n",
       "<table border=\"1\" class=\"dataframe\">\n",
       "  <thead>\n",
       "    <tr style=\"text-align: right;\">\n",
       "      <th></th>\n",
       "      <th>quantity</th>\n",
       "      <th>prices</th>\n",
       "      <th>cost</th>\n",
       "    </tr>\n",
       "    <tr>\n",
       "      <th>category</th>\n",
       "      <th></th>\n",
       "      <th></th>\n",
       "      <th></th>\n",
       "    </tr>\n",
       "  </thead>\n",
       "  <tbody>\n",
       "    <tr>\n",
       "      <th>heels</th>\n",
       "      <td>367137</td>\n",
       "      <td>21761937.55</td>\n",
       "      <td>34684750.78</td>\n",
       "    </tr>\n",
       "    <tr>\n",
       "      <th>sandals</th>\n",
       "      <td>300817</td>\n",
       "      <td>17909871.86</td>\n",
       "      <td>28441778.42</td>\n",
       "    </tr>\n",
       "    <tr>\n",
       "      <th>wedges</th>\n",
       "      <td>272327</td>\n",
       "      <td>17010098.71</td>\n",
       "      <td>27235972.72</td>\n",
       "    </tr>\n",
       "    <tr>\n",
       "      <th>boots</th>\n",
       "      <td>231883</td>\n",
       "      <td>13551908.53</td>\n",
       "      <td>21652845.76</td>\n",
       "    </tr>\n",
       "    <tr>\n",
       "      <th>flats</th>\n",
       "      <td>92209</td>\n",
       "      <td>5666109.11</td>\n",
       "      <td>9037315.86</td>\n",
       "    </tr>\n",
       "  </tbody>\n",
       "</table>\n",
       "</div>"
      ],
      "text/plain": [
       "          quantity       prices         cost\n",
       "category                                    \n",
       "heels       367137  21761937.55  34684750.78\n",
       "sandals     300817  17909871.86  28441778.42\n",
       "wedges      272327  17010098.71  27235972.72\n",
       "boots       231883  13551908.53  21652845.76\n",
       "flats        92209   5666109.11   9037315.86"
      ]
     },
     "execution_count": 51,
     "metadata": {},
     "output_type": "execute_result"
    }
   ],
   "source": [
    "store.groupby(by='category').sum().sort_values('quantity', ascending=False)[:5]"
   ]
  },
  {
   "cell_type": "code",
   "execution_count": 52,
   "metadata": {},
   "outputs": [
    {
     "data": {
      "text/html": [
       "<div>\n",
       "<style scoped>\n",
       "    .dataframe tbody tr th:only-of-type {\n",
       "        vertical-align: middle;\n",
       "    }\n",
       "\n",
       "    .dataframe tbody tr th {\n",
       "        vertical-align: top;\n",
       "    }\n",
       "\n",
       "    .dataframe thead th {\n",
       "        text-align: right;\n",
       "    }\n",
       "</style>\n",
       "<table border=\"1\" class=\"dataframe\">\n",
       "  <thead>\n",
       "    <tr style=\"text-align: right;\">\n",
       "      <th></th>\n",
       "      <th>quantity</th>\n",
       "      <th>prices</th>\n",
       "      <th>cost</th>\n",
       "    </tr>\n",
       "    <tr>\n",
       "      <th>feature</th>\n",
       "      <th></th>\n",
       "      <th></th>\n",
       "      <th></th>\n",
       "    </tr>\n",
       "  </thead>\n",
       "  <tbody>\n",
       "    <tr>\n",
       "      <th>recycled material</th>\n",
       "      <td>63953</td>\n",
       "      <td>3528013.31</td>\n",
       "      <td>5594123.90</td>\n",
       "    </tr>\n",
       "    <tr>\n",
       "      <th>seamless</th>\n",
       "      <td>60628</td>\n",
       "      <td>3435105.68</td>\n",
       "      <td>5487526.68</td>\n",
       "    </tr>\n",
       "    <tr>\n",
       "      <th>orthopedic</th>\n",
       "      <td>59816</td>\n",
       "      <td>3351529.60</td>\n",
       "      <td>5340465.66</td>\n",
       "    </tr>\n",
       "    <tr>\n",
       "      <th>water friendly</th>\n",
       "      <td>59373</td>\n",
       "      <td>3724245.94</td>\n",
       "      <td>5930830.76</td>\n",
       "    </tr>\n",
       "    <tr>\n",
       "      <th>leather outsole</th>\n",
       "      <td>59256</td>\n",
       "      <td>3562978.21</td>\n",
       "      <td>5668111.17</td>\n",
       "    </tr>\n",
       "  </tbody>\n",
       "</table>\n",
       "</div>"
      ],
      "text/plain": [
       "                   quantity      prices        cost\n",
       "feature                                            \n",
       "recycled material     63953  3528013.31  5594123.90\n",
       "seamless              60628  3435105.68  5487526.68\n",
       "orthopedic            59816  3351529.60  5340465.66\n",
       "water friendly        59373  3724245.94  5930830.76\n",
       "leather outsole       59256  3562978.21  5668111.17"
      ]
     },
     "execution_count": 52,
     "metadata": {},
     "output_type": "execute_result"
    }
   ],
   "source": [
    "store.groupby(by='feature').sum().sort_values('quantity', ascending=False)[:5]"
   ]
  },
  {
   "cell_type": "markdown",
   "metadata": {},
   "source": [
    "As a note: Of the four traits associated with the new shoe being released next quarter, only one (leather) is an overall number-one top-selling trait for the store. Manmade material is a number-three selling trait."
   ]
  },
  {
   "cell_type": "markdown",
   "metadata": {},
   "source": [
    "## Question 9\n",
    "\n",
    "**(9a)** Are there opportunities to grow sales?  \n",
    "\n",
    "**(9b)** Are there products that you would discontinue? \n",
    "\n",
    "**(9c)** What other datasets would you use to complement the transaction data and why?"
   ]
  },
  {
   "cell_type": "markdown",
   "metadata": {},
   "source": [
    "Question 9A: Are there opportunities to grow sales?"
   ]
  },
  {
   "cell_type": "code",
   "execution_count": 53,
   "metadata": {
    "scrolled": true
   },
   "outputs": [
    {
     "data": {
      "text/html": [
       "<div>\n",
       "<style scoped>\n",
       "    .dataframe tbody tr th:only-of-type {\n",
       "        vertical-align: middle;\n",
       "    }\n",
       "\n",
       "    .dataframe tbody tr th {\n",
       "        vertical-align: top;\n",
       "    }\n",
       "\n",
       "    .dataframe thead th {\n",
       "        text-align: right;\n",
       "    }\n",
       "</style>\n",
       "<table border=\"1\" class=\"dataframe\">\n",
       "  <thead>\n",
       "    <tr style=\"text-align: right;\">\n",
       "      <th></th>\n",
       "      <th>quantity</th>\n",
       "      <th>prices</th>\n",
       "      <th>cost</th>\n",
       "    </tr>\n",
       "    <tr>\n",
       "      <th>city</th>\n",
       "      <th></th>\n",
       "      <th></th>\n",
       "      <th></th>\n",
       "    </tr>\n",
       "  </thead>\n",
       "  <tbody>\n",
       "    <tr>\n",
       "      <th>Washington</th>\n",
       "      <td>133</td>\n",
       "      <td>7704.57</td>\n",
       "      <td>11289.78</td>\n",
       "    </tr>\n",
       "  </tbody>\n",
       "</table>\n",
       "</div>"
      ],
      "text/plain": [
       "            quantity   prices      cost\n",
       "city                                   \n",
       "Washington       133  7704.57  11289.78"
      ]
     },
     "execution_count": 53,
     "metadata": {},
     "output_type": "execute_result"
    }
   ],
   "source": [
    "best_selling_attributes.groupby(by='city').sum().sort_values('quantity', ascending=False)[:1]"
   ]
  },
  {
   "cell_type": "code",
   "execution_count": 54,
   "metadata": {},
   "outputs": [
    {
     "data": {
      "text/html": [
       "<div>\n",
       "<style scoped>\n",
       "    .dataframe tbody tr th:only-of-type {\n",
       "        vertical-align: middle;\n",
       "    }\n",
       "\n",
       "    .dataframe tbody tr th {\n",
       "        vertical-align: top;\n",
       "    }\n",
       "\n",
       "    .dataframe thead th {\n",
       "        text-align: right;\n",
       "    }\n",
       "</style>\n",
       "<table border=\"1\" class=\"dataframe\">\n",
       "  <thead>\n",
       "    <tr style=\"text-align: right;\">\n",
       "      <th></th>\n",
       "      <th>quantity</th>\n",
       "      <th>prices</th>\n",
       "      <th>cost</th>\n",
       "    </tr>\n",
       "    <tr>\n",
       "      <th>city</th>\n",
       "      <th></th>\n",
       "      <th></th>\n",
       "      <th></th>\n",
       "    </tr>\n",
       "  </thead>\n",
       "  <tbody>\n",
       "    <tr>\n",
       "      <th>Kellyland</th>\n",
       "      <td>1</td>\n",
       "      <td>44.95</td>\n",
       "      <td>44.95</td>\n",
       "    </tr>\n",
       "  </tbody>\n",
       "</table>\n",
       "</div>"
      ],
      "text/plain": [
       "           quantity  prices   cost\n",
       "city                              \n",
       "Kellyland         1   44.95  44.95"
      ]
     },
     "execution_count": 54,
     "metadata": {},
     "output_type": "execute_result"
    }
   ],
   "source": [
    "best_selling_attributes.groupby(by='city').sum().sort_values('quantity', ascending=True)[:1]"
   ]
  },
  {
   "cell_type": "code",
   "execution_count": 55,
   "metadata": {},
   "outputs": [
    {
     "data": {
      "text/html": [
       "<div>\n",
       "<style scoped>\n",
       "    .dataframe tbody tr th:only-of-type {\n",
       "        vertical-align: middle;\n",
       "    }\n",
       "\n",
       "    .dataframe tbody tr th {\n",
       "        vertical-align: top;\n",
       "    }\n",
       "\n",
       "    .dataframe thead th {\n",
       "        text-align: right;\n",
       "    }\n",
       "</style>\n",
       "<table border=\"1\" class=\"dataframe\">\n",
       "  <thead>\n",
       "    <tr style=\"text-align: right;\">\n",
       "      <th></th>\n",
       "      <th>quantity</th>\n",
       "      <th>prices</th>\n",
       "      <th>cost</th>\n",
       "    </tr>\n",
       "    <tr>\n",
       "      <th>name</th>\n",
       "      <th></th>\n",
       "      <th></th>\n",
       "      <th></th>\n",
       "    </tr>\n",
       "  </thead>\n",
       "  <tbody>\n",
       "    <tr>\n",
       "      <th>Bl Tulip Gladiator Open Toe Shiny Faux Patent Lace Back Thigh High Stiletto Heel Boot Shoe Red</th>\n",
       "      <td>4</td>\n",
       "      <td>159.98</td>\n",
       "      <td>319.96</td>\n",
       "    </tr>\n",
       "    <tr>\n",
       "      <th>Keuka Suregrip Unisex - Adult Shock Mint Athletic Slip Resistant Work Shoes</th>\n",
       "      <td>4</td>\n",
       "      <td>54.98</td>\n",
       "      <td>219.92</td>\n",
       "    </tr>\n",
       "    <tr>\n",
       "      <th>Rocket Dog Women's Jazzinso Fashion Sneaker</th>\n",
       "      <td>4</td>\n",
       "      <td>39.95</td>\n",
       "      <td>159.80</td>\n",
       "    </tr>\n",
       "  </tbody>\n",
       "</table>\n",
       "</div>"
      ],
      "text/plain": [
       "                                                    quantity  prices    cost\n",
       "name                                                                        \n",
       "Bl Tulip Gladiator Open Toe Shiny Faux Patent L...         4  159.98  319.96\n",
       "Keuka Suregrip Unisex - Adult Shock Mint Athlet...         4   54.98  219.92\n",
       "Rocket Dog Women's Jazzinso Fashion Sneaker                4   39.95  159.80"
      ]
     },
     "execution_count": 55,
     "metadata": {},
     "output_type": "execute_result"
    }
   ],
   "source": [
    "kellyland_shoes = store[store['city'] == \"Kellyland\"].groupby(by=['name']).sum().sort_values('quantity', ascending=False)[:3]\n",
    "kellyland_shoes"
   ]
  },
  {
   "cell_type": "code",
   "execution_count": 56,
   "metadata": {},
   "outputs": [
    {
     "data": {
      "text/html": [
       "<div>\n",
       "<style scoped>\n",
       "    .dataframe tbody tr th:only-of-type {\n",
       "        vertical-align: middle;\n",
       "    }\n",
       "\n",
       "    .dataframe tbody tr th {\n",
       "        vertical-align: top;\n",
       "    }\n",
       "\n",
       "    .dataframe thead th {\n",
       "        text-align: right;\n",
       "    }\n",
       "</style>\n",
       "<table border=\"1\" class=\"dataframe\">\n",
       "  <thead>\n",
       "    <tr style=\"text-align: right;\">\n",
       "      <th></th>\n",
       "      <th>quantity</th>\n",
       "      <th>prices</th>\n",
       "      <th>cost</th>\n",
       "    </tr>\n",
       "    <tr>\n",
       "      <th>city</th>\n",
       "      <th></th>\n",
       "      <th></th>\n",
       "      <th></th>\n",
       "    </tr>\n",
       "  </thead>\n",
       "  <tbody>\n",
       "    <tr>\n",
       "      <th>Lake Christopherfurt</th>\n",
       "      <td>5</td>\n",
       "      <td>4270.0</td>\n",
       "      <td>21350.0</td>\n",
       "    </tr>\n",
       "  </tbody>\n",
       "</table>\n",
       "</div>"
      ],
      "text/plain": [
       "                      quantity  prices     cost\n",
       "city                                           \n",
       "Lake Christopherfurt         5  4270.0  21350.0"
      ]
     },
     "execution_count": 56,
     "metadata": {},
     "output_type": "execute_result"
    }
   ],
   "source": [
    "best_selling_attributes.groupby(by='city').sum().sort_values('cost', ascending=False)[:1]"
   ]
  },
  {
   "cell_type": "code",
   "execution_count": 57,
   "metadata": {},
   "outputs": [
    {
     "data": {
      "text/html": [
       "<div>\n",
       "<style scoped>\n",
       "    .dataframe tbody tr th:only-of-type {\n",
       "        vertical-align: middle;\n",
       "    }\n",
       "\n",
       "    .dataframe tbody tr th {\n",
       "        vertical-align: top;\n",
       "    }\n",
       "\n",
       "    .dataframe thead th {\n",
       "        text-align: right;\n",
       "    }\n",
       "</style>\n",
       "<table border=\"1\" class=\"dataframe\">\n",
       "  <thead>\n",
       "    <tr style=\"text-align: right;\">\n",
       "      <th></th>\n",
       "      <th>quantity</th>\n",
       "      <th>prices</th>\n",
       "      <th>cost</th>\n",
       "    </tr>\n",
       "    <tr>\n",
       "      <th>city</th>\n",
       "      <th></th>\n",
       "      <th></th>\n",
       "      <th></th>\n",
       "    </tr>\n",
       "  </thead>\n",
       "  <tbody>\n",
       "    <tr>\n",
       "      <th>West Donnaview</th>\n",
       "      <td>1</td>\n",
       "      <td>3.99</td>\n",
       "      <td>3.99</td>\n",
       "    </tr>\n",
       "  </tbody>\n",
       "</table>\n",
       "</div>"
      ],
      "text/plain": [
       "                quantity  prices  cost\n",
       "city                                  \n",
       "West Donnaview         1    3.99  3.99"
      ]
     },
     "execution_count": 57,
     "metadata": {},
     "output_type": "execute_result"
    }
   ],
   "source": [
    "best_selling_attributes.groupby(by='city').sum().sort_values('cost', ascending=True)[:1]"
   ]
  },
  {
   "cell_type": "code",
   "execution_count": 58,
   "metadata": {},
   "outputs": [
    {
     "data": {
      "text/html": [
       "<div>\n",
       "<style scoped>\n",
       "    .dataframe tbody tr th:only-of-type {\n",
       "        vertical-align: middle;\n",
       "    }\n",
       "\n",
       "    .dataframe tbody tr th {\n",
       "        vertical-align: top;\n",
       "    }\n",
       "\n",
       "    .dataframe thead th {\n",
       "        text-align: right;\n",
       "    }\n",
       "</style>\n",
       "<table border=\"1\" class=\"dataframe\">\n",
       "  <thead>\n",
       "    <tr style=\"text-align: right;\">\n",
       "      <th></th>\n",
       "      <th>quantity</th>\n",
       "      <th>prices</th>\n",
       "      <th>cost</th>\n",
       "    </tr>\n",
       "    <tr>\n",
       "      <th>name</th>\n",
       "      <th></th>\n",
       "      <th></th>\n",
       "      <th></th>\n",
       "    </tr>\n",
       "  </thead>\n",
       "  <tbody>\n",
       "    <tr>\n",
       "      <th>J/slides Capri Women  Open Toe Leather  Thong Sandal</th>\n",
       "      <td>3</td>\n",
       "      <td>80.00</td>\n",
       "      <td>240.00</td>\n",
       "    </tr>\n",
       "    <tr>\n",
       "      <th>Women's VANELi Madora Open-Toe Pump Black Satin by Vaneli</th>\n",
       "      <td>1</td>\n",
       "      <td>105.95</td>\n",
       "      <td>105.95</td>\n",
       "    </tr>\n",
       "    <tr>\n",
       "      <th>Women's White Mountain Cabe Clog Brown Tumbled Leather</th>\n",
       "      <td>1</td>\n",
       "      <td>44.95</td>\n",
       "      <td>44.95</td>\n",
       "    </tr>\n",
       "  </tbody>\n",
       "</table>\n",
       "</div>"
      ],
      "text/plain": [
       "                                                    quantity  prices    cost\n",
       "name                                                                        \n",
       "J/slides Capri Women  Open Toe Leather  Thong S...         3   80.00  240.00\n",
       "Women's VANELi Madora Open-Toe Pump Black Satin...         1  105.95  105.95\n",
       "Women's White Mountain Cabe Clog Brown Tumbled ...         1   44.95   44.95"
      ]
     },
     "execution_count": 58,
     "metadata": {},
     "output_type": "execute_result"
    }
   ],
   "source": [
    "west_donnaview_shoes = store[store['city'] == \"West Donnaview\"].groupby(by=['name']).sum().sort_values('cost', ascending=False)[:3]\n",
    "west_donnaview_shoes"
   ]
  },
  {
   "cell_type": "markdown",
   "metadata": {},
   "source": [
    "My exploratory data analysis showed that black wedges--a nationally high-selling shoe with high-selling traits--sold highest in terms of quantity in Washington and most poorly in terms of quantity in Kellyland, and they sold highest in terms of sales in Lake Christopherfurt and most poorly in terms of sales in West Donnaview. "
   ]
  },
  {
   "cell_type": "markdown",
   "metadata": {},
   "source": [
    "It appears we have an opportunity to grow sales in both Kellyland and West Donnaview. In Kellyland, the highest selling shoe was a thigh-high stiletto heel red boot shoe, and in West Donnaview the highest selling shoe was an open-toe leather thong sandal. We could try to increase sales of these respective shoes, or we could try and market our best-sellers more intensively in these two places."
   ]
  },
  {
   "cell_type": "markdown",
   "metadata": {},
   "source": [
    "Question 9B: Are there products that you would discontinue?"
   ]
  },
  {
   "cell_type": "code",
   "execution_count": 59,
   "metadata": {
    "scrolled": true
   },
   "outputs": [
    {
     "data": {
      "text/html": [
       "<div>\n",
       "<style scoped>\n",
       "    .dataframe tbody tr th:only-of-type {\n",
       "        vertical-align: middle;\n",
       "    }\n",
       "\n",
       "    .dataframe tbody tr th {\n",
       "        vertical-align: top;\n",
       "    }\n",
       "\n",
       "    .dataframe thead th {\n",
       "        text-align: right;\n",
       "    }\n",
       "</style>\n",
       "<table border=\"1\" class=\"dataframe\">\n",
       "  <thead>\n",
       "    <tr style=\"text-align: right;\">\n",
       "      <th></th>\n",
       "      <th>quantity</th>\n",
       "      <th>prices</th>\n",
       "      <th>cost</th>\n",
       "    </tr>\n",
       "    <tr>\n",
       "      <th>name</th>\n",
       "      <th></th>\n",
       "      <th></th>\n",
       "      <th></th>\n",
       "    </tr>\n",
       "  </thead>\n",
       "  <tbody>\n",
       "    <tr>\n",
       "      <th>Guess Ortena2 Bronze/black Ankle Booties Boots Size 6.5</th>\n",
       "      <td>181</td>\n",
       "      <td>0.99</td>\n",
       "      <td>1.81</td>\n",
       "    </tr>\n",
       "  </tbody>\n",
       "</table>\n",
       "</div>"
      ],
      "text/plain": [
       "                                                    quantity  prices  cost\n",
       "name                                                                      \n",
       "Guess Ortena2 Bronze/black Ankle Booties Boots ...       181    0.99  1.81"
      ]
     },
     "execution_count": 59,
     "metadata": {},
     "output_type": "execute_result"
    }
   ],
   "source": [
    "store.groupby(by='name').sum().sort_values('cost', ascending=True)[:1]"
   ]
  },
  {
   "cell_type": "markdown",
   "metadata": {},
   "source": [
    "I would discontinue the Guess Ortena2 Bronze/black Ankle Booties Boots Size 6.5. Despite the number of items sold, their price is quite literally 100 times below the APV."
   ]
  },
  {
   "cell_type": "markdown",
   "metadata": {},
   "source": [
    "Question 9C: What other datasets would you use to complement the transaction data and why?\n",
    "\n",
    "This data would benefit from having a 'Profits' column. Without knowledge of profits, it's much more difficult to accurately pinpoint where sales are going wrong and how to correct them. Additionally, having a 'Region' category and providing zip codes would be much more helpful for sorting data geographically ."
   ]
  },
  {
   "cell_type": "markdown",
   "metadata": {},
   "source": [
    "## Question 10\n",
    "\n",
    "The sales team is asking for increased bonuses because they increased daily sales year-over-year. \n",
    "\n",
    "**(10)** Calculate the daily sales totals (cost) for the date ranges 8/1/2018-7/31/2019 and 8/1/2019-7/31/2020. Describe and compare the two distributions (center, variability, spread, and anomalies). Create a graphical display that makes this easy to understand."
   ]
  },
  {
   "cell_type": "code",
   "execution_count": 60,
   "metadata": {},
   "outputs": [
    {
     "data": {
      "text/plain": [
       "count       364.000000\n",
       "mean     218958.351236\n",
       "std       14907.164720\n",
       "min      184474.900000\n",
       "25%      208845.960000\n",
       "50%      218509.850000\n",
       "75%      228999.307500\n",
       "max      264349.600000\n",
       "Name: cost, dtype: float64"
      ]
     },
     "execution_count": 60,
     "metadata": {},
     "output_type": "execute_result"
    }
   ],
   "source": [
    "FY2019 = store[store.transactionDate.between('2018-08-01', '2019-7-31')]\n",
    "daily_FY2019 = FY2019.set_index('transactionDate').groupby([pd.Grouper(freq='D')])['cost'].sum()\n",
    "daily_FY2019.describe()"
   ]
  },
  {
   "cell_type": "code",
   "execution_count": 61,
   "metadata": {
    "scrolled": true
   },
   "outputs": [
    {
     "data": {
      "text/plain": [
       "count       366.000000\n",
       "mean     237762.992814\n",
       "std       27057.028698\n",
       "min      192098.670000\n",
       "25%      219427.377500\n",
       "50%      227949.055000\n",
       "75%      253349.587500\n",
       "max      311104.730000\n",
       "Name: cost, dtype: float64"
      ]
     },
     "execution_count": 61,
     "metadata": {},
     "output_type": "execute_result"
    }
   ],
   "source": [
    "FY2020 = store[store.transactionDate.between('2019-08-01', '2020-7-31')]\n",
    "daily_FY2020 = FY2020.set_index('transactionDate').groupby([pd.Grouper(freq='D')])['cost'].sum()\n",
    "daily_FY2020.describe()"
   ]
  },
  {
   "cell_type": "code",
   "execution_count": 62,
   "metadata": {},
   "outputs": [
    {
     "name": "stderr",
     "output_type": "stream",
     "text": [
      "C:\\Users\\cb1550\\Anaconda3\\lib\\site-packages\\seaborn\\distributions.py:2619: FutureWarning: `distplot` is a deprecated function and will be removed in a future version. Please adapt your code to use either `displot` (a figure-level function with similar flexibility) or `histplot` (an axes-level function for histograms).\n",
      "  warnings.warn(msg, FutureWarning)\n"
     ]
    },
    {
     "data": {
      "image/png": "[encoded data removed]",
      "text/plain": [
       "<Figure size 432x288 with 1 Axes>"
      ]
     },
     "metadata": {
      "needs_background": "light"
     },
     "output_type": "display_data"
    }
   ],
   "source": [
    "ax = sns.distplot(daily_FY2019, label=\"Fiscal Year 2019\", kde=False)\n",
    "sns.distplot(daily_FY2020, label=\"Fiscal Year 2020\", kde=False)\n",
    "ax.set(xlabel='Sales', ylabel='Count', title='Distribution of Daily Sales Totals')\n",
    "ax.xaxis.set_major_formatter('${x:1.0f}')\n",
    "plt.legend()\n",
    "plt.show()"
   ]
  },
  {
   "cell_type": "markdown",
   "metadata": {},
   "source": [
    "## Question 11\n",
    "\n",
    "Looking at the summary, the CEO says the sales don't look that different. \n",
    "\n",
    "**(11)** Is the difference in sales statistically significant enough to justify increased bonuses? (Answer using inference, either a significance test or comparison of confidence intervals)"
   ]
  },
  {
   "cell_type": "markdown",
   "metadata": {},
   "source": [
    "We will perform a t-test for the difference between the sample means for FY 2019 and FY 2020 with a significance level  𝛼  = .05.\n",
    "\n",
    "Our hypotheses:\n",
    "\n",
    "H0:  𝜇 2020 -  𝜇 2019 = 0\n",
    "\n",
    "(there is no difference in mean sales)\n",
    "\n",
    "Ha:  𝜇 2020 -  𝜇 2019 > 0\n",
    "\n",
    "(the mean sales in FY2020 were greater than in FY2019)"
   ]
  },
  {
   "cell_type": "code",
   "execution_count": 63,
   "metadata": {},
   "outputs": [
    {
     "data": {
      "text/plain": [
       "Ttest_indResult(statistic=11.63815231954758, pvalue=3.1466556982150907e-28)"
      ]
     },
     "execution_count": 63,
     "metadata": {},
     "output_type": "execute_result"
    }
   ],
   "source": [
    "stats.ttest_ind(daily_FY2020, daily_FY2019, equal_var=False)"
   ]
  },
  {
   "cell_type": "markdown",
   "metadata": {},
   "source": [
    "Based on the p-value of 3.1466556982150907e-28 (which is considerably lower than the significance level of 0.05 established for the test), we can interpret a near zero probability of a Type 1 error (the event that the null hypothesis, Ho, is true but we reject it). As such, the data provide significant evidence against Ho. We can reject Ho and accept the alternative hypothesis, Ha, that the average daily sales in FY2020 were higher than the average daily sales in FY2019."
   ]
  },
  {
   "cell_type": "code",
   "execution_count": null,
   "metadata": {},
   "outputs": [],
   "source": []
  }
 ],
 "metadata": {
  "kernelspec": {
   "display_name": "Python 3 (ipykernel)",
   "language": "python",
   "name": "python3"
  },
  "language_info": {
   "codemirror_mode": {
    "name": "ipython",
    "version": 3
   },
   "file_extension": ".py",
   "mimetype": "text/x-python",
   "name": "python",
   "nbconvert_exporter": "python",
   "pygments_lexer": "ipython3",
   "version": "3.9.12"
  }
 },
 "nbformat": 4,
 "nbformat_minor": 4
}
